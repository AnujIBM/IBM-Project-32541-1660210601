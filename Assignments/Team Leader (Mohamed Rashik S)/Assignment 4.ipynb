{
 "cells": [
  {
   "cell_type": "code",
   "execution_count": 2,
   "id": "16c76ff8",
   "metadata": {},
   "outputs": [],
   "source": [
    "import pandas as pd\n",
    "import numpy as np\n",
    "from sklearn.preprocessing import MinMaxScaler\n",
    "from sklearn.metrics import  confusion_matrix,accuracy_score\n",
    "import matplotlib.pyplot as plt\n",
    "import seaborn as sns\n",
    "from scipy.stats import  skew"
   ]
  },
  {
   "cell_type": "code",
   "execution_count": 4,
   "id": "fce542ae",
   "metadata": {},
   "outputs": [
    {
     "data": {
      "text/html": [
       "<div>\n",
       "<style scoped>\n",
       "    .dataframe tbody tr th:only-of-type {\n",
       "        vertical-align: middle;\n",
       "    }\n",
       "\n",
       "    .dataframe tbody tr th {\n",
       "        vertical-align: top;\n",
       "    }\n",
       "\n",
       "    .dataframe thead th {\n",
       "        text-align: right;\n",
       "    }\n",
       "</style>\n",
       "<table border=\"1\" class=\"dataframe\">\n",
       "  <thead>\n",
       "    <tr style=\"text-align: right;\">\n",
       "      <th></th>\n",
       "      <th>CustomerID</th>\n",
       "      <th>Gender</th>\n",
       "      <th>Age</th>\n",
       "      <th>Annual Income (k$)</th>\n",
       "      <th>Spending Score (1-100)</th>\n",
       "    </tr>\n",
       "  </thead>\n",
       "  <tbody>\n",
       "    <tr>\n",
       "      <th>0</th>\n",
       "      <td>1</td>\n",
       "      <td>Male</td>\n",
       "      <td>19</td>\n",
       "      <td>15</td>\n",
       "      <td>39</td>\n",
       "    </tr>\n",
       "    <tr>\n",
       "      <th>1</th>\n",
       "      <td>2</td>\n",
       "      <td>Male</td>\n",
       "      <td>21</td>\n",
       "      <td>15</td>\n",
       "      <td>81</td>\n",
       "    </tr>\n",
       "    <tr>\n",
       "      <th>2</th>\n",
       "      <td>3</td>\n",
       "      <td>Female</td>\n",
       "      <td>20</td>\n",
       "      <td>16</td>\n",
       "      <td>6</td>\n",
       "    </tr>\n",
       "    <tr>\n",
       "      <th>3</th>\n",
       "      <td>4</td>\n",
       "      <td>Female</td>\n",
       "      <td>23</td>\n",
       "      <td>16</td>\n",
       "      <td>77</td>\n",
       "    </tr>\n",
       "    <tr>\n",
       "      <th>4</th>\n",
       "      <td>5</td>\n",
       "      <td>Female</td>\n",
       "      <td>31</td>\n",
       "      <td>17</td>\n",
       "      <td>40</td>\n",
       "    </tr>\n",
       "    <tr>\n",
       "      <th>...</th>\n",
       "      <td>...</td>\n",
       "      <td>...</td>\n",
       "      <td>...</td>\n",
       "      <td>...</td>\n",
       "      <td>...</td>\n",
       "    </tr>\n",
       "    <tr>\n",
       "      <th>195</th>\n",
       "      <td>196</td>\n",
       "      <td>Female</td>\n",
       "      <td>35</td>\n",
       "      <td>120</td>\n",
       "      <td>79</td>\n",
       "    </tr>\n",
       "    <tr>\n",
       "      <th>196</th>\n",
       "      <td>197</td>\n",
       "      <td>Female</td>\n",
       "      <td>45</td>\n",
       "      <td>126</td>\n",
       "      <td>28</td>\n",
       "    </tr>\n",
       "    <tr>\n",
       "      <th>197</th>\n",
       "      <td>198</td>\n",
       "      <td>Male</td>\n",
       "      <td>32</td>\n",
       "      <td>126</td>\n",
       "      <td>74</td>\n",
       "    </tr>\n",
       "    <tr>\n",
       "      <th>198</th>\n",
       "      <td>199</td>\n",
       "      <td>Male</td>\n",
       "      <td>32</td>\n",
       "      <td>137</td>\n",
       "      <td>18</td>\n",
       "    </tr>\n",
       "    <tr>\n",
       "      <th>199</th>\n",
       "      <td>200</td>\n",
       "      <td>Male</td>\n",
       "      <td>30</td>\n",
       "      <td>137</td>\n",
       "      <td>83</td>\n",
       "    </tr>\n",
       "  </tbody>\n",
       "</table>\n",
       "<p>200 rows × 5 columns</p>\n",
       "</div>"
      ],
      "text/plain": [
       "     CustomerID  Gender  Age  Annual Income (k$)  Spending Score (1-100)\n",
       "0             1    Male   19                  15                      39\n",
       "1             2    Male   21                  15                      81\n",
       "2             3  Female   20                  16                       6\n",
       "3             4  Female   23                  16                      77\n",
       "4             5  Female   31                  17                      40\n",
       "..          ...     ...  ...                 ...                     ...\n",
       "195         196  Female   35                 120                      79\n",
       "196         197  Female   45                 126                      28\n",
       "197         198    Male   32                 126                      74\n",
       "198         199    Male   32                 137                      18\n",
       "199         200    Male   30                 137                      83\n",
       "\n",
       "[200 rows x 5 columns]"
      ]
     },
     "execution_count": 4,
     "metadata": {},
     "output_type": "execute_result"
    }
   ],
   "source": [
    "dataset=pd.read_csv(r\"C:\\Users\\rnsam\\Downloads\\Mall_Customers.csv\")\n",
    "dataset"
   ]
  },
  {
   "cell_type": "code",
   "execution_count": 5,
   "id": "42541f27",
   "metadata": {},
   "outputs": [
    {
     "data": {
      "text/html": [
       "<div>\n",
       "<style scoped>\n",
       "    .dataframe tbody tr th:only-of-type {\n",
       "        vertical-align: middle;\n",
       "    }\n",
       "\n",
       "    .dataframe tbody tr th {\n",
       "        vertical-align: top;\n",
       "    }\n",
       "\n",
       "    .dataframe thead th {\n",
       "        text-align: right;\n",
       "    }\n",
       "</style>\n",
       "<table border=\"1\" class=\"dataframe\">\n",
       "  <thead>\n",
       "    <tr style=\"text-align: right;\">\n",
       "      <th></th>\n",
       "      <th>CustomerID</th>\n",
       "      <th>Gender</th>\n",
       "      <th>Age</th>\n",
       "      <th>Annual Income (k$)</th>\n",
       "      <th>Spending Score (1-100)</th>\n",
       "    </tr>\n",
       "  </thead>\n",
       "  <tbody>\n",
       "    <tr>\n",
       "      <th>0</th>\n",
       "      <td>1</td>\n",
       "      <td>Male</td>\n",
       "      <td>19</td>\n",
       "      <td>15</td>\n",
       "      <td>39</td>\n",
       "    </tr>\n",
       "    <tr>\n",
       "      <th>1</th>\n",
       "      <td>2</td>\n",
       "      <td>Male</td>\n",
       "      <td>21</td>\n",
       "      <td>15</td>\n",
       "      <td>81</td>\n",
       "    </tr>\n",
       "    <tr>\n",
       "      <th>2</th>\n",
       "      <td>3</td>\n",
       "      <td>Female</td>\n",
       "      <td>20</td>\n",
       "      <td>16</td>\n",
       "      <td>6</td>\n",
       "    </tr>\n",
       "    <tr>\n",
       "      <th>3</th>\n",
       "      <td>4</td>\n",
       "      <td>Female</td>\n",
       "      <td>23</td>\n",
       "      <td>16</td>\n",
       "      <td>77</td>\n",
       "    </tr>\n",
       "    <tr>\n",
       "      <th>4</th>\n",
       "      <td>5</td>\n",
       "      <td>Female</td>\n",
       "      <td>31</td>\n",
       "      <td>17</td>\n",
       "      <td>40</td>\n",
       "    </tr>\n",
       "  </tbody>\n",
       "</table>\n",
       "</div>"
      ],
      "text/plain": [
       "   CustomerID  Gender  Age  Annual Income (k$)  Spending Score (1-100)\n",
       "0           1    Male   19                  15                      39\n",
       "1           2    Male   21                  15                      81\n",
       "2           3  Female   20                  16                       6\n",
       "3           4  Female   23                  16                      77\n",
       "4           5  Female   31                  17                      40"
      ]
     },
     "execution_count": 5,
     "metadata": {},
     "output_type": "execute_result"
    }
   ],
   "source": [
    "dataset.head()"
   ]
  },
  {
   "cell_type": "code",
   "execution_count": 6,
   "id": "c41a6a8f",
   "metadata": {},
   "outputs": [
    {
     "data": {
      "text/html": [
       "<div>\n",
       "<style scoped>\n",
       "    .dataframe tbody tr th:only-of-type {\n",
       "        vertical-align: middle;\n",
       "    }\n",
       "\n",
       "    .dataframe tbody tr th {\n",
       "        vertical-align: top;\n",
       "    }\n",
       "\n",
       "    .dataframe thead th {\n",
       "        text-align: right;\n",
       "    }\n",
       "</style>\n",
       "<table border=\"1\" class=\"dataframe\">\n",
       "  <thead>\n",
       "    <tr style=\"text-align: right;\">\n",
       "      <th></th>\n",
       "      <th>CustomerID</th>\n",
       "      <th>Gender</th>\n",
       "      <th>Age</th>\n",
       "      <th>Annual Income (k$)</th>\n",
       "      <th>Spending Score (1-100)</th>\n",
       "    </tr>\n",
       "  </thead>\n",
       "  <tbody>\n",
       "    <tr>\n",
       "      <th>195</th>\n",
       "      <td>196</td>\n",
       "      <td>Female</td>\n",
       "      <td>35</td>\n",
       "      <td>120</td>\n",
       "      <td>79</td>\n",
       "    </tr>\n",
       "    <tr>\n",
       "      <th>196</th>\n",
       "      <td>197</td>\n",
       "      <td>Female</td>\n",
       "      <td>45</td>\n",
       "      <td>126</td>\n",
       "      <td>28</td>\n",
       "    </tr>\n",
       "    <tr>\n",
       "      <th>197</th>\n",
       "      <td>198</td>\n",
       "      <td>Male</td>\n",
       "      <td>32</td>\n",
       "      <td>126</td>\n",
       "      <td>74</td>\n",
       "    </tr>\n",
       "    <tr>\n",
       "      <th>198</th>\n",
       "      <td>199</td>\n",
       "      <td>Male</td>\n",
       "      <td>32</td>\n",
       "      <td>137</td>\n",
       "      <td>18</td>\n",
       "    </tr>\n",
       "    <tr>\n",
       "      <th>199</th>\n",
       "      <td>200</td>\n",
       "      <td>Male</td>\n",
       "      <td>30</td>\n",
       "      <td>137</td>\n",
       "      <td>83</td>\n",
       "    </tr>\n",
       "  </tbody>\n",
       "</table>\n",
       "</div>"
      ],
      "text/plain": [
       "     CustomerID  Gender  Age  Annual Income (k$)  Spending Score (1-100)\n",
       "195         196  Female   35                 120                      79\n",
       "196         197  Female   45                 126                      28\n",
       "197         198    Male   32                 126                      74\n",
       "198         199    Male   32                 137                      18\n",
       "199         200    Male   30                 137                      83"
      ]
     },
     "execution_count": 6,
     "metadata": {},
     "output_type": "execute_result"
    }
   ],
   "source": [
    "dataset.tail()"
   ]
  },
  {
   "cell_type": "code",
   "execution_count": 7,
   "id": "60cee339",
   "metadata": {},
   "outputs": [
    {
     "data": {
      "text/html": [
       "<div>\n",
       "<style scoped>\n",
       "    .dataframe tbody tr th:only-of-type {\n",
       "        vertical-align: middle;\n",
       "    }\n",
       "\n",
       "    .dataframe tbody tr th {\n",
       "        vertical-align: top;\n",
       "    }\n",
       "\n",
       "    .dataframe thead th {\n",
       "        text-align: right;\n",
       "    }\n",
       "</style>\n",
       "<table border=\"1\" class=\"dataframe\">\n",
       "  <thead>\n",
       "    <tr style=\"text-align: right;\">\n",
       "      <th></th>\n",
       "      <th>CustomerID</th>\n",
       "      <th>Age</th>\n",
       "      <th>Annual Income (k$)</th>\n",
       "      <th>Spending Score (1-100)</th>\n",
       "    </tr>\n",
       "  </thead>\n",
       "  <tbody>\n",
       "    <tr>\n",
       "      <th>count</th>\n",
       "      <td>200.000000</td>\n",
       "      <td>200.000000</td>\n",
       "      <td>200.000000</td>\n",
       "      <td>200.000000</td>\n",
       "    </tr>\n",
       "    <tr>\n",
       "      <th>mean</th>\n",
       "      <td>100.500000</td>\n",
       "      <td>38.850000</td>\n",
       "      <td>60.560000</td>\n",
       "      <td>50.200000</td>\n",
       "    </tr>\n",
       "    <tr>\n",
       "      <th>std</th>\n",
       "      <td>57.879185</td>\n",
       "      <td>13.969007</td>\n",
       "      <td>26.264721</td>\n",
       "      <td>25.823522</td>\n",
       "    </tr>\n",
       "    <tr>\n",
       "      <th>min</th>\n",
       "      <td>1.000000</td>\n",
       "      <td>18.000000</td>\n",
       "      <td>15.000000</td>\n",
       "      <td>1.000000</td>\n",
       "    </tr>\n",
       "    <tr>\n",
       "      <th>25%</th>\n",
       "      <td>50.750000</td>\n",
       "      <td>28.750000</td>\n",
       "      <td>41.500000</td>\n",
       "      <td>34.750000</td>\n",
       "    </tr>\n",
       "    <tr>\n",
       "      <th>50%</th>\n",
       "      <td>100.500000</td>\n",
       "      <td>36.000000</td>\n",
       "      <td>61.500000</td>\n",
       "      <td>50.000000</td>\n",
       "    </tr>\n",
       "    <tr>\n",
       "      <th>75%</th>\n",
       "      <td>150.250000</td>\n",
       "      <td>49.000000</td>\n",
       "      <td>78.000000</td>\n",
       "      <td>73.000000</td>\n",
       "    </tr>\n",
       "    <tr>\n",
       "      <th>max</th>\n",
       "      <td>200.000000</td>\n",
       "      <td>70.000000</td>\n",
       "      <td>137.000000</td>\n",
       "      <td>99.000000</td>\n",
       "    </tr>\n",
       "  </tbody>\n",
       "</table>\n",
       "</div>"
      ],
      "text/plain": [
       "       CustomerID         Age  Annual Income (k$)  Spending Score (1-100)\n",
       "count  200.000000  200.000000          200.000000              200.000000\n",
       "mean   100.500000   38.850000           60.560000               50.200000\n",
       "std     57.879185   13.969007           26.264721               25.823522\n",
       "min      1.000000   18.000000           15.000000                1.000000\n",
       "25%     50.750000   28.750000           41.500000               34.750000\n",
       "50%    100.500000   36.000000           61.500000               50.000000\n",
       "75%    150.250000   49.000000           78.000000               73.000000\n",
       "max    200.000000   70.000000          137.000000               99.000000"
      ]
     },
     "execution_count": 7,
     "metadata": {},
     "output_type": "execute_result"
    }
   ],
   "source": [
    "dataset.describe()"
   ]
  },
  {
   "cell_type": "code",
   "execution_count": 8,
   "id": "f4b78fa3",
   "metadata": {},
   "outputs": [
    {
     "data": {
      "text/plain": [
       "(200, 5)"
      ]
     },
     "execution_count": 8,
     "metadata": {},
     "output_type": "execute_result"
    }
   ],
   "source": [
    "dataset.shape"
   ]
  },
  {
   "cell_type": "markdown",
   "id": "4117d95d",
   "metadata": {},
   "source": [
    "# Univariate Analysis and bi variate"
   ]
  },
  {
   "cell_type": "code",
   "execution_count": 9,
   "id": "1d90c343",
   "metadata": {},
   "outputs": [
    {
     "data": {
      "image/png": "[encoded data removed]",
      "text/plain": [
       "<Figure size 1440x720 with 10 Axes>"
      ]
     },
     "metadata": {
      "needs_background": "light"
     },
     "output_type": "display_data"
    }
   ],
   "source": [
    "#histogram\n",
    "dataset.hist(figsize=(20,10), grid=False, layout=(2,5), bins=30)\n",
    "plt.show()"
   ]
  },
  {
   "cell_type": "code",
   "execution_count": 10,
   "id": "419bc666",
   "metadata": {},
   "outputs": [
    {
     "data": {
      "image/png": "[encoded data removed]",
      "text/plain": [
       "<Figure size 1440x1440 with 1 Axes>"
      ]
     },
     "metadata": {
      "needs_background": "light"
     },
     "output_type": "display_data"
    }
   ],
   "source": [
    "dataset.boxplot(figsize=(20,20))\n",
    "plt.show()"
   ]
  },
  {
   "cell_type": "code",
   "execution_count": 11,
   "id": "a55e8769",
   "metadata": {},
   "outputs": [
    {
     "name": "stderr",
     "output_type": "stream",
     "text": [
      "C:\\Users\\rnsam\\anaconda3\\lib\\site-packages\\seaborn\\distributions.py:2619: FutureWarning: `distplot` is a deprecated function and will be removed in a future version. Please adapt your code to use either `displot` (a figure-level function with similar flexibility) or `histplot` (an axes-level function for histograms).\n",
      "  warnings.warn(msg, FutureWarning)\n"
     ]
    },
    {
     "data": {
      "image/png": "[encoded data removed]",
      "text/plain": [
       "<Figure size 1440x720 with 1 Axes>"
      ]
     },
     "metadata": {
      "needs_background": "light"
     },
     "output_type": "display_data"
    }
   ],
   "source": [
    "plt.figure(figsize=(20,10))\n",
    "sns.distplot(dataset['Age'])\n",
    "plt.show()"
   ]
  },
  {
   "cell_type": "code",
   "execution_count": 17,
   "id": "c0b9d029",
   "metadata": {},
   "outputs": [
    {
     "data": {
      "image/png": "[encoded data removed]",
      "text/plain": [
       "<Figure size 1440x1440 with 8 Axes>"
      ]
     },
     "metadata": {
      "needs_background": "light"
     },
     "output_type": "display_data"
    }
   ],
   "source": [
    "fig,axes=plt.subplots(4,2, figsize=(20,20))\n",
    "axes=axes.flatten()\n",
    "for i  in range(1,len(dataset.columns)-1):\n",
    "    sns.scatterplot(x=dataset.iloc[:,i],y=dataset['Age'],ax=axes[i])\n",
    "plt.show()"
   ]
  },
  {
   "cell_type": "code",
   "execution_count": 12,
   "id": "3c3e55ef",
   "metadata": {},
   "outputs": [
    {
     "data": {
      "image/png": "[encoded data removed]",
      "text/plain": [
       "<Figure size 720x720 with 1 Axes>"
      ]
     },
     "metadata": {
      "needs_background": "light"
     },
     "output_type": "display_data"
    },
    {
     "data": {
      "text/html": [
       "<div>\n",
       "<style scoped>\n",
       "    .dataframe tbody tr th:only-of-type {\n",
       "        vertical-align: middle;\n",
       "    }\n",
       "\n",
       "    .dataframe tbody tr th {\n",
       "        vertical-align: top;\n",
       "    }\n",
       "\n",
       "    .dataframe thead th {\n",
       "        text-align: right;\n",
       "    }\n",
       "</style>\n",
       "<table border=\"1\" class=\"dataframe\">\n",
       "  <thead>\n",
       "    <tr style=\"text-align: right;\">\n",
       "      <th></th>\n",
       "      <th>count</th>\n",
       "      <th>mean</th>\n",
       "      <th>std</th>\n",
       "      <th>min</th>\n",
       "      <th>25%</th>\n",
       "      <th>50%</th>\n",
       "      <th>75%</th>\n",
       "      <th>max</th>\n",
       "    </tr>\n",
       "    <tr>\n",
       "      <th>Annual Income (k$)</th>\n",
       "      <th></th>\n",
       "      <th></th>\n",
       "      <th></th>\n",
       "      <th></th>\n",
       "      <th></th>\n",
       "      <th></th>\n",
       "      <th></th>\n",
       "      <th></th>\n",
       "    </tr>\n",
       "  </thead>\n",
       "  <tbody>\n",
       "    <tr>\n",
       "      <th>15</th>\n",
       "      <td>2.0</td>\n",
       "      <td>20.00</td>\n",
       "      <td>1.414214</td>\n",
       "      <td>19.0</td>\n",
       "      <td>19.50</td>\n",
       "      <td>20.0</td>\n",
       "      <td>20.50</td>\n",
       "      <td>21.0</td>\n",
       "    </tr>\n",
       "    <tr>\n",
       "      <th>16</th>\n",
       "      <td>2.0</td>\n",
       "      <td>21.50</td>\n",
       "      <td>2.121320</td>\n",
       "      <td>20.0</td>\n",
       "      <td>20.75</td>\n",
       "      <td>21.5</td>\n",
       "      <td>22.25</td>\n",
       "      <td>23.0</td>\n",
       "    </tr>\n",
       "    <tr>\n",
       "      <th>17</th>\n",
       "      <td>2.0</td>\n",
       "      <td>26.50</td>\n",
       "      <td>6.363961</td>\n",
       "      <td>22.0</td>\n",
       "      <td>24.25</td>\n",
       "      <td>26.5</td>\n",
       "      <td>28.75</td>\n",
       "      <td>31.0</td>\n",
       "    </tr>\n",
       "    <tr>\n",
       "      <th>18</th>\n",
       "      <td>2.0</td>\n",
       "      <td>29.00</td>\n",
       "      <td>8.485281</td>\n",
       "      <td>23.0</td>\n",
       "      <td>26.00</td>\n",
       "      <td>29.0</td>\n",
       "      <td>32.00</td>\n",
       "      <td>35.0</td>\n",
       "    </tr>\n",
       "    <tr>\n",
       "      <th>19</th>\n",
       "      <td>4.0</td>\n",
       "      <td>49.00</td>\n",
       "      <td>19.200694</td>\n",
       "      <td>30.0</td>\n",
       "      <td>33.75</td>\n",
       "      <td>49.5</td>\n",
       "      <td>64.75</td>\n",
       "      <td>67.0</td>\n",
       "    </tr>\n",
       "    <tr>\n",
       "      <th>...</th>\n",
       "      <td>...</td>\n",
       "      <td>...</td>\n",
       "      <td>...</td>\n",
       "      <td>...</td>\n",
       "      <td>...</td>\n",
       "      <td>...</td>\n",
       "      <td>...</td>\n",
       "      <td>...</td>\n",
       "    </tr>\n",
       "    <tr>\n",
       "      <th>103</th>\n",
       "      <td>4.0</td>\n",
       "      <td>35.75</td>\n",
       "      <td>3.862210</td>\n",
       "      <td>32.0</td>\n",
       "      <td>33.50</td>\n",
       "      <td>35.0</td>\n",
       "      <td>37.25</td>\n",
       "      <td>41.0</td>\n",
       "    </tr>\n",
       "    <tr>\n",
       "      <th>113</th>\n",
       "      <td>2.0</td>\n",
       "      <td>35.50</td>\n",
       "      <td>3.535534</td>\n",
       "      <td>33.0</td>\n",
       "      <td>34.25</td>\n",
       "      <td>35.5</td>\n",
       "      <td>36.75</td>\n",
       "      <td>38.0</td>\n",
       "    </tr>\n",
       "    <tr>\n",
       "      <th>120</th>\n",
       "      <td>2.0</td>\n",
       "      <td>41.00</td>\n",
       "      <td>8.485281</td>\n",
       "      <td>35.0</td>\n",
       "      <td>38.00</td>\n",
       "      <td>41.0</td>\n",
       "      <td>44.00</td>\n",
       "      <td>47.0</td>\n",
       "    </tr>\n",
       "    <tr>\n",
       "      <th>126</th>\n",
       "      <td>2.0</td>\n",
       "      <td>38.50</td>\n",
       "      <td>9.192388</td>\n",
       "      <td>32.0</td>\n",
       "      <td>35.25</td>\n",
       "      <td>38.5</td>\n",
       "      <td>41.75</td>\n",
       "      <td>45.0</td>\n",
       "    </tr>\n",
       "    <tr>\n",
       "      <th>137</th>\n",
       "      <td>2.0</td>\n",
       "      <td>31.00</td>\n",
       "      <td>1.414214</td>\n",
       "      <td>30.0</td>\n",
       "      <td>30.50</td>\n",
       "      <td>31.0</td>\n",
       "      <td>31.50</td>\n",
       "      <td>32.0</td>\n",
       "    </tr>\n",
       "  </tbody>\n",
       "</table>\n",
       "<p>64 rows × 8 columns</p>\n",
       "</div>"
      ],
      "text/plain": [
       "                    count   mean        std   min    25%   50%    75%   max\n",
       "Annual Income (k$)                                                         \n",
       "15                    2.0  20.00   1.414214  19.0  19.50  20.0  20.50  21.0\n",
       "16                    2.0  21.50   2.121320  20.0  20.75  21.5  22.25  23.0\n",
       "17                    2.0  26.50   6.363961  22.0  24.25  26.5  28.75  31.0\n",
       "18                    2.0  29.00   8.485281  23.0  26.00  29.0  32.00  35.0\n",
       "19                    4.0  49.00  19.200694  30.0  33.75  49.5  64.75  67.0\n",
       "...                   ...    ...        ...   ...    ...   ...    ...   ...\n",
       "103                   4.0  35.75   3.862210  32.0  33.50  35.0  37.25  41.0\n",
       "113                   2.0  35.50   3.535534  33.0  34.25  35.5  36.75  38.0\n",
       "120                   2.0  41.00   8.485281  35.0  38.00  41.0  44.00  47.0\n",
       "126                   2.0  38.50   9.192388  32.0  35.25  38.5  41.75  45.0\n",
       "137                   2.0  31.00   1.414214  30.0  30.50  31.0  31.50  32.0\n",
       "\n",
       "[64 rows x 8 columns]"
      ]
     },
     "execution_count": 12,
     "metadata": {},
     "output_type": "execute_result"
    }
   ],
   "source": [
    "plt.figure(figsize=(10,10))\n",
    "sns.boxenplot(y=dataset['Age'], x=dataset['Annual Income (k$)'])\n",
    "plt.grid()\n",
    "plt.show()\n",
    "dataset.groupby('Annual Income (k$)')['Age'].describe()"
   ]
  },
  {
   "cell_type": "code",
   "execution_count": 13,
   "id": "33b8a9af",
   "metadata": {},
   "outputs": [
    {
     "name": "stdout",
     "output_type": "stream",
     "text": [
      "<class 'pandas.core.frame.DataFrame'>\n",
      "RangeIndex: 200 entries, 0 to 199\n",
      "Data columns (total 5 columns):\n",
      " #   Column                  Non-Null Count  Dtype \n",
      "---  ------                  --------------  ----- \n",
      " 0   CustomerID              200 non-null    int64 \n",
      " 1   Gender                  200 non-null    object\n",
      " 2   Age                     200 non-null    int64 \n",
      " 3   Annual Income (k$)      200 non-null    int64 \n",
      " 4   Spending Score (1-100)  200 non-null    int64 \n",
      "dtypes: int64(4), object(1)\n",
      "memory usage: 7.9+ KB\n"
     ]
    }
   ],
   "source": [
    "dataset.info()"
   ]
  },
  {
   "cell_type": "code",
   "execution_count": 14,
   "id": "e0283ed3",
   "metadata": {},
   "outputs": [
    {
     "data": {
      "text/plain": [
       "Index(['CustomerID', 'Gender', 'Age', 'Annual Income (k$)',\n",
       "       'Spending Score (1-100)'],\n",
       "      dtype='object')"
      ]
     },
     "execution_count": 14,
     "metadata": {},
     "output_type": "execute_result"
    }
   ],
   "source": [
    "dataset.columns"
   ]
  },
  {
   "cell_type": "code",
   "execution_count": 18,
   "id": "7a7ac4e9",
   "metadata": {},
   "outputs": [
    {
     "data": {
      "text/plain": [
       "<AxesSubplot:xlabel='Gender', ylabel='count'>"
      ]
     },
     "execution_count": 18,
     "metadata": {},
     "output_type": "execute_result"
    },
    {
     "data": {
      "image/png": "[encoded data removed]",
      "text/plain": [
       "<Figure size 432x288 with 1 Axes>"
      ]
     },
     "metadata": {
      "needs_background": "light"
     },
     "output_type": "display_data"
    }
   ],
   "source": [
    "sns.countplot(x = 'Gender', data = dataset, palette=\"Set2\")"
   ]
  },
  {
   "cell_type": "code",
   "execution_count": 23,
   "id": "19bde199",
   "metadata": {},
   "outputs": [
    {
     "data": {
      "text/plain": [
       "Female    112\n",
       "Male       88\n",
       "Name: Gender, dtype: int64"
      ]
     },
     "execution_count": 23,
     "metadata": {},
     "output_type": "execute_result"
    }
   ],
   "source": [
    "abs=dataset['Gender'].value_counts()\n",
    "abs"
   ]
  },
  {
   "cell_type": "code",
   "execution_count": 24,
   "id": "51a98b18",
   "metadata": {},
   "outputs": [
    {
     "data": {
      "text/plain": [
       "<AxesSubplot:xlabel='Age', ylabel='Gender'>"
      ]
     },
     "execution_count": 24,
     "metadata": {},
     "output_type": "execute_result"
    },
    {
     "data": {
      "image/png": "[encoded data removed]",
      "text/plain": [
       "<Figure size 432x288 with 1 Axes>"
      ]
     },
     "metadata": {
      "needs_background": "light"
     },
     "output_type": "display_data"
    }
   ],
   "source": [
    "#point plot\n",
    "sns.pointplot(x='Age',y='Gender',data=dataset,color='darkorange')"
   ]
  },
  {
   "cell_type": "markdown",
   "id": "aee25cff",
   "metadata": {},
   "source": [
    "# Multi - Variate Analysis"
   ]
  },
  {
   "cell_type": "code",
   "execution_count": 25,
   "id": "c3b0bfde",
   "metadata": {},
   "outputs": [
    {
     "data": {
      "image/png": "[encoded data removed]",
      "text/plain": [
       "<Figure size 1080x720 with 2 Axes>"
      ]
     },
     "metadata": {
      "needs_background": "light"
     },
     "output_type": "display_data"
    }
   ],
   "source": [
    "plt.figure(figsize=(15,10))\n",
    "sns.heatmap(dataset.corr(),annot=True)\n",
    "plt.show()"
   ]
  },
  {
   "cell_type": "code",
   "execution_count": 26,
   "id": "01f97811",
   "metadata": {},
   "outputs": [
    {
     "data": {
      "image/png": "[encoded data removed]",
      "text/plain": [
       "<Figure size 720x720 with 20 Axes>"
      ]
     },
     "metadata": {
      "needs_background": "light"
     },
     "output_type": "display_data"
    }
   ],
   "source": [
    "sns.pairplot(dataset)\n",
    "plt.show()"
   ]
  },
  {
   "cell_type": "markdown",
   "id": "2143f470",
   "metadata": {},
   "source": [
    "# descriptive statistics on the dataset."
   ]
  },
  {
   "cell_type": "code",
   "execution_count": 27,
   "id": "975bd00a",
   "metadata": {},
   "outputs": [
    {
     "name": "stderr",
     "output_type": "stream",
     "text": [
      "C:\\Users\\rnsam\\AppData\\Local\\Temp\\ipykernel_21392\\1799472221.py:1: FutureWarning: Dropping of nuisance columns in DataFrame reductions (with 'numeric_only=None') is deprecated; in a future version this will raise TypeError.  Select only valid columns before calling the reduction.\n",
      "  dataset.mean()\n"
     ]
    },
    {
     "data": {
      "text/plain": [
       "CustomerID                100.50\n",
       "Age                        38.85\n",
       "Annual Income (k$)         60.56\n",
       "Spending Score (1-100)     50.20\n",
       "dtype: float64"
      ]
     },
     "execution_count": 27,
     "metadata": {},
     "output_type": "execute_result"
    }
   ],
   "source": [
    "dataset.mean()"
   ]
  },
  {
   "cell_type": "code",
   "execution_count": 28,
   "id": "238a2db0",
   "metadata": {},
   "outputs": [
    {
     "data": {
      "text/html": [
       "<div>\n",
       "<style scoped>\n",
       "    .dataframe tbody tr th:only-of-type {\n",
       "        vertical-align: middle;\n",
       "    }\n",
       "\n",
       "    .dataframe tbody tr th {\n",
       "        vertical-align: top;\n",
       "    }\n",
       "\n",
       "    .dataframe thead th {\n",
       "        text-align: right;\n",
       "    }\n",
       "</style>\n",
       "<table border=\"1\" class=\"dataframe\">\n",
       "  <thead>\n",
       "    <tr style=\"text-align: right;\">\n",
       "      <th></th>\n",
       "      <th>CustomerID</th>\n",
       "      <th>Gender</th>\n",
       "      <th>Age</th>\n",
       "      <th>Annual Income (k$)</th>\n",
       "      <th>Spending Score (1-100)</th>\n",
       "    </tr>\n",
       "  </thead>\n",
       "  <tbody>\n",
       "    <tr>\n",
       "      <th>0</th>\n",
       "      <td>1</td>\n",
       "      <td>Female</td>\n",
       "      <td>32.0</td>\n",
       "      <td>54.0</td>\n",
       "      <td>42.0</td>\n",
       "    </tr>\n",
       "    <tr>\n",
       "      <th>1</th>\n",
       "      <td>2</td>\n",
       "      <td>NaN</td>\n",
       "      <td>NaN</td>\n",
       "      <td>78.0</td>\n",
       "      <td>NaN</td>\n",
       "    </tr>\n",
       "    <tr>\n",
       "      <th>2</th>\n",
       "      <td>3</td>\n",
       "      <td>NaN</td>\n",
       "      <td>NaN</td>\n",
       "      <td>NaN</td>\n",
       "      <td>NaN</td>\n",
       "    </tr>\n",
       "    <tr>\n",
       "      <th>3</th>\n",
       "      <td>4</td>\n",
       "      <td>NaN</td>\n",
       "      <td>NaN</td>\n",
       "      <td>NaN</td>\n",
       "      <td>NaN</td>\n",
       "    </tr>\n",
       "    <tr>\n",
       "      <th>4</th>\n",
       "      <td>5</td>\n",
       "      <td>NaN</td>\n",
       "      <td>NaN</td>\n",
       "      <td>NaN</td>\n",
       "      <td>NaN</td>\n",
       "    </tr>\n",
       "    <tr>\n",
       "      <th>...</th>\n",
       "      <td>...</td>\n",
       "      <td>...</td>\n",
       "      <td>...</td>\n",
       "      <td>...</td>\n",
       "      <td>...</td>\n",
       "    </tr>\n",
       "    <tr>\n",
       "      <th>195</th>\n",
       "      <td>196</td>\n",
       "      <td>NaN</td>\n",
       "      <td>NaN</td>\n",
       "      <td>NaN</td>\n",
       "      <td>NaN</td>\n",
       "    </tr>\n",
       "    <tr>\n",
       "      <th>196</th>\n",
       "      <td>197</td>\n",
       "      <td>NaN</td>\n",
       "      <td>NaN</td>\n",
       "      <td>NaN</td>\n",
       "      <td>NaN</td>\n",
       "    </tr>\n",
       "    <tr>\n",
       "      <th>197</th>\n",
       "      <td>198</td>\n",
       "      <td>NaN</td>\n",
       "      <td>NaN</td>\n",
       "      <td>NaN</td>\n",
       "      <td>NaN</td>\n",
       "    </tr>\n",
       "    <tr>\n",
       "      <th>198</th>\n",
       "      <td>199</td>\n",
       "      <td>NaN</td>\n",
       "      <td>NaN</td>\n",
       "      <td>NaN</td>\n",
       "      <td>NaN</td>\n",
       "    </tr>\n",
       "    <tr>\n",
       "      <th>199</th>\n",
       "      <td>200</td>\n",
       "      <td>NaN</td>\n",
       "      <td>NaN</td>\n",
       "      <td>NaN</td>\n",
       "      <td>NaN</td>\n",
       "    </tr>\n",
       "  </tbody>\n",
       "</table>\n",
       "<p>200 rows × 5 columns</p>\n",
       "</div>"
      ],
      "text/plain": [
       "     CustomerID  Gender   Age  Annual Income (k$)  Spending Score (1-100)\n",
       "0             1  Female  32.0                54.0                    42.0\n",
       "1             2     NaN   NaN                78.0                     NaN\n",
       "2             3     NaN   NaN                 NaN                     NaN\n",
       "3             4     NaN   NaN                 NaN                     NaN\n",
       "4             5     NaN   NaN                 NaN                     NaN\n",
       "..          ...     ...   ...                 ...                     ...\n",
       "195         196     NaN   NaN                 NaN                     NaN\n",
       "196         197     NaN   NaN                 NaN                     NaN\n",
       "197         198     NaN   NaN                 NaN                     NaN\n",
       "198         199     NaN   NaN                 NaN                     NaN\n",
       "199         200     NaN   NaN                 NaN                     NaN\n",
       "\n",
       "[200 rows x 5 columns]"
      ]
     },
     "execution_count": 28,
     "metadata": {},
     "output_type": "execute_result"
    }
   ],
   "source": [
    "dataset.mode()"
   ]
  },
  {
   "cell_type": "code",
   "execution_count": 29,
   "id": "7e4529b0",
   "metadata": {},
   "outputs": [
    {
     "name": "stderr",
     "output_type": "stream",
     "text": [
      "C:\\Users\\rnsam\\AppData\\Local\\Temp\\ipykernel_21392\\4167803218.py:1: FutureWarning: Dropping of nuisance columns in DataFrame reductions (with 'numeric_only=None') is deprecated; in a future version this will raise TypeError.  Select only valid columns before calling the reduction.\n",
      "  dataset.median()\n"
     ]
    },
    {
     "data": {
      "text/plain": [
       "CustomerID                100.5\n",
       "Age                        36.0\n",
       "Annual Income (k$)         61.5\n",
       "Spending Score (1-100)     50.0\n",
       "dtype: float64"
      ]
     },
     "execution_count": 29,
     "metadata": {},
     "output_type": "execute_result"
    }
   ],
   "source": [
    "dataset.median()"
   ]
  },
  {
   "cell_type": "code",
   "execution_count": 32,
   "id": "138e4bb1",
   "metadata": {},
   "outputs": [
    {
     "name": "stderr",
     "output_type": "stream",
     "text": [
      "C:\\Users\\rnsam\\AppData\\Local\\Temp\\ipykernel_21392\\4231230252.py:1: FutureWarning: Dropping of nuisance columns in DataFrame reductions (with 'numeric_only=None') is deprecated; in a future version this will raise TypeError.  Select only valid columns before calling the reduction.\n",
      "  dataset.skew()\n"
     ]
    },
    {
     "data": {
      "text/plain": [
       "CustomerID                0.000000\n",
       "Age                       0.485569\n",
       "Annual Income (k$)        0.321843\n",
       "Spending Score (1-100)   -0.047220\n",
       "dtype: float64"
      ]
     },
     "execution_count": 32,
     "metadata": {},
     "output_type": "execute_result"
    }
   ],
   "source": [
    "dataset.skew()"
   ]
  },
  {
   "cell_type": "code",
   "execution_count": 33,
   "id": "0d1b3dd0",
   "metadata": {},
   "outputs": [
    {
     "name": "stderr",
     "output_type": "stream",
     "text": [
      "C:\\Users\\rnsam\\anaconda3\\lib\\site-packages\\seaborn\\distributions.py:2619: FutureWarning: `distplot` is a deprecated function and will be removed in a future version. Please adapt your code to use either `displot` (a figure-level function with similar flexibility) or `histplot` (an axes-level function for histograms).\n",
      "  warnings.warn(msg, FutureWarning)\n"
     ]
    },
    {
     "name": "stdout",
     "output_type": "stream",
     "text": [
      "AxesSubplot(0.125,0.125;0.775x0.755)\n"
     ]
    },
    {
     "data": {
      "image/png": "[encoded data removed]",
      "text/plain": [
       "<Figure size 432x288 with 1 Axes>"
      ]
     },
     "metadata": {
      "needs_background": "light"
     },
     "output_type": "display_data"
    }
   ],
   "source": [
    "print(sns.distplot(dataset['Age']))"
   ]
  },
  {
   "cell_type": "code",
   "execution_count": 34,
   "id": "0d55c309",
   "metadata": {},
   "outputs": [
    {
     "name": "stderr",
     "output_type": "stream",
     "text": [
      "C:\\Users\\rnsam\\AppData\\Local\\Temp\\ipykernel_21392\\4113884262.py:1: FutureWarning: Dropping of nuisance columns in DataFrame reductions (with 'numeric_only=None') is deprecated; in a future version this will raise TypeError.  Select only valid columns before calling the reduction.\n",
      "  dataset.kurt()\n"
     ]
    },
    {
     "data": {
      "text/plain": [
       "CustomerID               -1.200000\n",
       "Age                      -0.671573\n",
       "Annual Income (k$)       -0.098487\n",
       "Spending Score (1-100)   -0.826629\n",
       "dtype: float64"
      ]
     },
     "execution_count": 34,
     "metadata": {},
     "output_type": "execute_result"
    }
   ],
   "source": [
    "dataset.kurt()"
   ]
  },
  {
   "cell_type": "code",
   "execution_count": 35,
   "id": "659f1e0f",
   "metadata": {},
   "outputs": [
    {
     "name": "stderr",
     "output_type": "stream",
     "text": [
      "C:\\Users\\rnsam\\AppData\\Local\\Temp\\ipykernel_21392\\2458428038.py:1: FutureWarning: Dropping of nuisance columns in DataFrame reductions (with 'numeric_only=None') is deprecated; in a future version this will raise TypeError.  Select only valid columns before calling the reduction.\n",
      "  dataset.var()\n"
     ]
    },
    {
     "data": {
      "text/plain": [
       "CustomerID                3350.000000\n",
       "Age                        195.133166\n",
       "Annual Income (k$)         689.835578\n",
       "Spending Score (1-100)     666.854271\n",
       "dtype: float64"
      ]
     },
     "execution_count": 35,
     "metadata": {},
     "output_type": "execute_result"
    }
   ],
   "source": [
    "dataset.var()"
   ]
  },
  {
   "cell_type": "code",
   "execution_count": 36,
   "id": "d6bb921f",
   "metadata": {},
   "outputs": [
    {
     "name": "stderr",
     "output_type": "stream",
     "text": [
      "C:\\Users\\rnsam\\AppData\\Local\\Temp\\ipykernel_21392\\178401259.py:1: FutureWarning: Dropping of nuisance columns in DataFrame reductions (with 'numeric_only=None') is deprecated; in a future version this will raise TypeError.  Select only valid columns before calling the reduction.\n",
      "  dataset.std()\n"
     ]
    },
    {
     "data": {
      "text/plain": [
       "CustomerID                57.879185\n",
       "Age                       13.969007\n",
       "Annual Income (k$)        26.264721\n",
       "Spending Score (1-100)    25.823522\n",
       "dtype: float64"
      ]
     },
     "execution_count": 36,
     "metadata": {},
     "output_type": "execute_result"
    }
   ],
   "source": [
    "dataset.std()"
   ]
  },
  {
   "cell_type": "code",
   "execution_count": 37,
   "id": "5e9c9c36",
   "metadata": {},
   "outputs": [
    {
     "name": "stderr",
     "output_type": "stream",
     "text": [
      "C:\\Users\\rnsam\\anaconda3\\lib\\site-packages\\seaborn\\_decorators.py:36: FutureWarning: Pass the following variable as a keyword arg: x. From version 0.12, the only valid positional argument will be `data`, and passing other arguments without an explicit keyword will result in an error or misinterpretation.\n",
      "  warnings.warn(\n"
     ]
    },
    {
     "data": {
      "text/plain": [
       "<AxesSubplot:xlabel='Annual Income (k$)'>"
      ]
     },
     "execution_count": 37,
     "metadata": {},
     "output_type": "execute_result"
    },
    {
     "data": {
      "image/png": "[encoded data removed]",
      "text/plain": [
       "<Figure size 432x288 with 1 Axes>"
      ]
     },
     "metadata": {
      "needs_background": "light"
     },
     "output_type": "display_data"
    }
   ],
   "source": [
    "sns.boxplot(dataset['Annual Income (k$)'])"
   ]
  },
  {
   "cell_type": "code",
   "execution_count": 39,
   "id": "c00206b3",
   "metadata": {},
   "outputs": [
    {
     "data": {
      "text/html": [
       "<div>\n",
       "<style scoped>\n",
       "    .dataframe tbody tr th:only-of-type {\n",
       "        vertical-align: middle;\n",
       "    }\n",
       "\n",
       "    .dataframe tbody tr th {\n",
       "        vertical-align: top;\n",
       "    }\n",
       "\n",
       "    .dataframe thead th {\n",
       "        text-align: right;\n",
       "    }\n",
       "</style>\n",
       "<table border=\"1\" class=\"dataframe\">\n",
       "  <thead>\n",
       "    <tr style=\"text-align: right;\">\n",
       "      <th></th>\n",
       "      <th>CustomerID</th>\n",
       "      <th>Age</th>\n",
       "      <th>Annual Income (k$)</th>\n",
       "      <th>Spending Score (1-100)</th>\n",
       "    </tr>\n",
       "  </thead>\n",
       "  <tbody>\n",
       "    <tr>\n",
       "      <th>0.75</th>\n",
       "      <td>150.25</td>\n",
       "      <td>49.00</td>\n",
       "      <td>78.0</td>\n",
       "      <td>73.00</td>\n",
       "    </tr>\n",
       "    <tr>\n",
       "      <th>0.25</th>\n",
       "      <td>50.75</td>\n",
       "      <td>28.75</td>\n",
       "      <td>41.5</td>\n",
       "      <td>34.75</td>\n",
       "    </tr>\n",
       "  </tbody>\n",
       "</table>\n",
       "</div>"
      ],
      "text/plain": [
       "      CustomerID    Age  Annual Income (k$)  Spending Score (1-100)\n",
       "0.75      150.25  49.00                78.0                   73.00\n",
       "0.25       50.75  28.75                41.5                   34.75"
      ]
     },
     "execution_count": 39,
     "metadata": {},
     "output_type": "execute_result"
    }
   ],
   "source": [
    "qnt=dataset.quantile(q=(0.75,0.25))\n",
    "qnt"
   ]
  },
  {
   "cell_type": "code",
   "execution_count": 40,
   "id": "b19d6b9c",
   "metadata": {},
   "outputs": [
    {
     "data": {
      "text/plain": [
       "CustomerID                99.50\n",
       "Age                       20.25\n",
       "Annual Income (k$)        36.50\n",
       "Spending Score (1-100)    38.25\n",
       "dtype: float64"
      ]
     },
     "execution_count": 40,
     "metadata": {},
     "output_type": "execute_result"
    }
   ],
   "source": [
    "iqr=qnt.loc[0.75]-qnt.loc[0.25]\n",
    "iqr"
   ]
  },
  {
   "cell_type": "code",
   "execution_count": 41,
   "id": "1187d2f8",
   "metadata": {},
   "outputs": [
    {
     "data": {
      "text/plain": [
       "CustomerID               -98.500\n",
       "Age                       -1.625\n",
       "Annual Income (k$)       -13.250\n",
       "Spending Score (1-100)   -22.625\n",
       "dtype: float64"
      ]
     },
     "execution_count": 41,
     "metadata": {},
     "output_type": "execute_result"
    }
   ],
   "source": [
    "lower=qnt.loc[0.25]-1.5*iqr\n",
    "lower"
   ]
  },
  {
   "cell_type": "code",
   "execution_count": 42,
   "id": "c9832a19",
   "metadata": {},
   "outputs": [
    {
     "data": {
      "text/plain": [
       "CustomerID                299.500\n",
       "Age                        79.375\n",
       "Annual Income (k$)        132.750\n",
       "Spending Score (1-100)    130.375\n",
       "dtype: float64"
      ]
     },
     "execution_count": 42,
     "metadata": {},
     "output_type": "execute_result"
    }
   ],
   "source": [
    "upper=qnt.loc[0.75]+1.5*iqr\n",
    "upper"
   ]
  },
  {
   "cell_type": "markdown",
   "id": "9452a06b",
   "metadata": {},
   "source": [
    "# scaling"
   ]
  },
  {
   "cell_type": "code",
   "execution_count": 45,
   "id": "46af9bbe",
   "metadata": {},
   "outputs": [
    {
     "data": {
      "text/html": [
       "<div>\n",
       "<style scoped>\n",
       "    .dataframe tbody tr th:only-of-type {\n",
       "        vertical-align: middle;\n",
       "    }\n",
       "\n",
       "    .dataframe tbody tr th {\n",
       "        vertical-align: top;\n",
       "    }\n",
       "\n",
       "    .dataframe thead th {\n",
       "        text-align: right;\n",
       "    }\n",
       "</style>\n",
       "<table border=\"1\" class=\"dataframe\">\n",
       "  <thead>\n",
       "    <tr style=\"text-align: right;\">\n",
       "      <th></th>\n",
       "      <th>Spending Score (1-100)</th>\n",
       "      <th>Annual Income (k$)</th>\n",
       "      <th>Age</th>\n",
       "    </tr>\n",
       "  </thead>\n",
       "  <tbody>\n",
       "    <tr>\n",
       "      <th>0</th>\n",
       "      <td>39</td>\n",
       "      <td>15</td>\n",
       "      <td>19</td>\n",
       "    </tr>\n",
       "    <tr>\n",
       "      <th>1</th>\n",
       "      <td>81</td>\n",
       "      <td>15</td>\n",
       "      <td>21</td>\n",
       "    </tr>\n",
       "    <tr>\n",
       "      <th>2</th>\n",
       "      <td>6</td>\n",
       "      <td>16</td>\n",
       "      <td>20</td>\n",
       "    </tr>\n",
       "    <tr>\n",
       "      <th>3</th>\n",
       "      <td>77</td>\n",
       "      <td>16</td>\n",
       "      <td>23</td>\n",
       "    </tr>\n",
       "    <tr>\n",
       "      <th>4</th>\n",
       "      <td>40</td>\n",
       "      <td>17</td>\n",
       "      <td>31</td>\n",
       "    </tr>\n",
       "    <tr>\n",
       "      <th>...</th>\n",
       "      <td>...</td>\n",
       "      <td>...</td>\n",
       "      <td>...</td>\n",
       "    </tr>\n",
       "    <tr>\n",
       "      <th>195</th>\n",
       "      <td>79</td>\n",
       "      <td>120</td>\n",
       "      <td>35</td>\n",
       "    </tr>\n",
       "    <tr>\n",
       "      <th>196</th>\n",
       "      <td>28</td>\n",
       "      <td>126</td>\n",
       "      <td>45</td>\n",
       "    </tr>\n",
       "    <tr>\n",
       "      <th>197</th>\n",
       "      <td>74</td>\n",
       "      <td>126</td>\n",
       "      <td>32</td>\n",
       "    </tr>\n",
       "    <tr>\n",
       "      <th>198</th>\n",
       "      <td>18</td>\n",
       "      <td>137</td>\n",
       "      <td>32</td>\n",
       "    </tr>\n",
       "    <tr>\n",
       "      <th>199</th>\n",
       "      <td>83</td>\n",
       "      <td>137</td>\n",
       "      <td>30</td>\n",
       "    </tr>\n",
       "  </tbody>\n",
       "</table>\n",
       "<p>200 rows × 3 columns</p>\n",
       "</div>"
      ],
      "text/plain": [
       "     Spending Score (1-100)  Annual Income (k$)  Age\n",
       "0                        39                  15   19\n",
       "1                        81                  15   21\n",
       "2                         6                  16   20\n",
       "3                        77                  16   23\n",
       "4                        40                  17   31\n",
       "..                      ...                 ...  ...\n",
       "195                      79                 120   35\n",
       "196                      28                 126   45\n",
       "197                      74                 126   32\n",
       "198                      18                 137   32\n",
       "199                      83                 137   30\n",
       "\n",
       "[200 rows x 3 columns]"
      ]
     },
     "execution_count": 45,
     "metadata": {},
     "output_type": "execute_result"
    }
   ],
   "source": [
    "r=dataset[['Spending Score (1-100)','Annual Income (k$)','Age']]\n",
    "r"
   ]
  },
  {
   "cell_type": "code",
   "execution_count": 46,
   "id": "97fc6166",
   "metadata": {},
   "outputs": [],
   "source": [
    "from sklearn.preprocessing import StandardScaler"
   ]
  },
  {
   "cell_type": "code",
   "execution_count": 47,
   "id": "777191b4",
   "metadata": {},
   "outputs": [],
   "source": [
    "scale=StandardScaler()"
   ]
  },
  {
   "cell_type": "code",
   "execution_count": 48,
   "id": "09ccd9f5",
   "metadata": {},
   "outputs": [],
   "source": [
    "\n",
    "st_scale=scale.fit_transform(r)"
   ]
  },
  {
   "cell_type": "code",
   "execution_count": 49,
   "id": "4038a22c",
   "metadata": {},
   "outputs": [
    {
     "data": {
      "text/plain": [
       "array([[-0.43480148, -1.73899919, -1.42456879],\n",
       "       [ 1.19570407, -1.73899919, -1.28103541],\n",
       "       [-1.71591298, -1.70082976, -1.3528021 ],\n",
       "       [ 1.04041783, -1.70082976, -1.13750203],\n",
       "       [-0.39597992, -1.66266033, -0.56336851],\n",
       "       [ 1.00159627, -1.66266033, -1.20926872],\n",
       "       [-1.71591298, -1.62449091, -0.27630176],\n",
       "       [ 1.70038436, -1.62449091, -1.13750203],\n",
       "       [-1.83237767, -1.58632148,  1.80493225],\n",
       "       [ 0.84631002, -1.58632148, -0.6351352 ],\n",
       "       [-1.4053405 , -1.58632148,  2.02023231],\n",
       "       [ 1.89449216, -1.58632148, -0.27630176],\n",
       "       [-1.36651894, -1.54815205,  1.37433211],\n",
       "       [ 1.04041783, -1.54815205, -1.06573534],\n",
       "       [-1.44416206, -1.54815205, -0.13276838],\n",
       "       [ 1.11806095, -1.54815205, -1.20926872],\n",
       "       [-0.59008772, -1.50998262, -0.27630176],\n",
       "       [ 0.61338066, -1.50998262, -1.3528021 ],\n",
       "       [-0.82301709, -1.43364376,  0.94373197],\n",
       "       [ 1.8556706 , -1.43364376, -0.27630176],\n",
       "       [-0.59008772, -1.39547433, -0.27630176],\n",
       "       [ 0.88513158, -1.39547433, -0.99396865],\n",
       "       [-1.75473454, -1.3573049 ,  0.51313183],\n",
       "       [ 0.88513158, -1.3573049 , -0.56336851],\n",
       "       [-1.4053405 , -1.24279661,  1.08726535],\n",
       "       [ 1.23452563, -1.24279661, -0.70690189],\n",
       "       [-0.7065524 , -1.24279661,  0.44136514],\n",
       "       [ 0.41927286, -1.24279661, -0.27630176],\n",
       "       [-0.74537397, -1.20462718,  0.08253169],\n",
       "       [ 1.42863343, -1.20462718, -1.13750203],\n",
       "       [-1.7935561 , -1.16645776,  1.51786549],\n",
       "       [ 0.88513158, -1.16645776, -1.28103541],\n",
       "       [-1.7935561 , -1.05194947,  1.01549866],\n",
       "       [ 1.62274124, -1.05194947, -1.49633548],\n",
       "       [-1.4053405 , -1.05194947,  0.7284319 ],\n",
       "       [ 1.19570407, -1.05194947, -1.28103541],\n",
       "       [-1.28887582, -1.01378004,  0.22606507],\n",
       "       [ 0.88513158, -1.01378004, -0.6351352 ],\n",
       "       [-0.93948177, -0.89927175, -0.20453507],\n",
       "       [ 0.96277471, -0.89927175, -1.3528021 ],\n",
       "       [-0.59008772, -0.86110232,  1.87669894],\n",
       "       [ 1.62274124, -0.86110232, -1.06573534],\n",
       "       [-0.55126616, -0.82293289,  0.65666521],\n",
       "       [ 0.41927286, -0.82293289, -0.56336851],\n",
       "       [-0.86183865, -0.82293289,  0.7284319 ],\n",
       "       [ 0.5745591 , -0.82293289, -1.06573534],\n",
       "       [ 0.18634349, -0.78476346,  0.80019859],\n",
       "       [-0.12422899, -0.78476346, -0.85043527],\n",
       "       [-0.3183368 , -0.78476346, -0.70690189],\n",
       "       [-0.3183368 , -0.78476346, -0.56336851],\n",
       "       [ 0.06987881, -0.70842461,  0.7284319 ],\n",
       "       [ 0.38045129, -0.70842461, -0.41983513],\n",
       "       [ 0.14752193, -0.67025518, -0.56336851],\n",
       "       [ 0.38045129, -0.67025518,  1.4460988 ],\n",
       "       [-0.20187212, -0.67025518,  0.80019859],\n",
       "       [-0.35715836, -0.67025518,  0.58489852],\n",
       "       [-0.00776431, -0.63208575,  0.87196528],\n",
       "       [-0.16305055, -0.63208575,  2.16376569],\n",
       "       [ 0.03105725, -0.55574689, -0.85043527],\n",
       "       [-0.16305055, -0.55574689,  1.01549866],\n",
       "       [ 0.22516505, -0.55574689,  2.23553238],\n",
       "       [ 0.18634349, -0.55574689, -1.42456879],\n",
       "       [ 0.06987881, -0.51757746,  2.02023231],\n",
       "       [ 0.34162973, -0.51757746,  1.08726535],\n",
       "       [ 0.03105725, -0.47940803,  1.73316556],\n",
       "       [ 0.34162973, -0.47940803, -1.49633548],\n",
       "       [-0.00776431, -0.47940803,  0.29783176],\n",
       "       [-0.08540743, -0.47940803,  2.091999  ],\n",
       "       [ 0.34162973, -0.47940803, -1.42456879],\n",
       "       [-0.12422899, -0.47940803, -0.49160182],\n",
       "       [ 0.18634349, -0.4412386 ,  2.23553238],\n",
       "       [-0.3183368 , -0.4412386 ,  0.58489852],\n",
       "       [-0.04658587, -0.40306917,  1.51786549],\n",
       "       [ 0.22516505, -0.40306917,  1.51786549],\n",
       "       [-0.12422899, -0.25039146,  1.4460988 ],\n",
       "       [ 0.14752193, -0.25039146, -0.92220196],\n",
       "       [ 0.10870037, -0.25039146,  0.44136514],\n",
       "       [-0.08540743, -0.25039146,  0.08253169],\n",
       "       [ 0.06987881, -0.25039146, -1.13750203],\n",
       "       [-0.3183368 , -0.25039146,  0.7284319 ],\n",
       "       [ 0.03105725, -0.25039146,  1.30256542],\n",
       "       [ 0.18634349, -0.25039146, -0.06100169],\n",
       "       [-0.35715836, -0.25039146,  2.02023231],\n",
       "       [-0.24069368, -0.25039146,  0.51313183],\n",
       "       [ 0.26398661, -0.25039146, -1.28103541],\n",
       "       [-0.16305055, -0.25039146,  0.65666521],\n",
       "       [ 0.30280817, -0.13588317,  1.15903204],\n",
       "       [ 0.18634349, -0.13588317, -1.20926872],\n",
       "       [ 0.38045129, -0.09771374, -0.34806844],\n",
       "       [-0.16305055, -0.09771374,  0.80019859],\n",
       "       [ 0.18634349, -0.05954431,  2.091999  ],\n",
       "       [-0.35715836, -0.05954431, -1.49633548],\n",
       "       [-0.04658587, -0.02137488,  0.65666521],\n",
       "       [-0.39597992, -0.02137488,  0.08253169],\n",
       "       [-0.3183368 , -0.02137488, -0.49160182],\n",
       "       [ 0.06987881, -0.02137488, -1.06573534],\n",
       "       [-0.12422899, -0.02137488,  0.58489852],\n",
       "       [-0.00776431, -0.02137488, -0.85043527],\n",
       "       [-0.3183368 ,  0.01679455,  0.65666521],\n",
       "       [-0.04658587,  0.01679455, -1.3528021 ],\n",
       "       [-0.35715836,  0.05496398, -1.13750203],\n",
       "       [-0.08540743,  0.05496398,  0.7284319 ],\n",
       "       [ 0.34162973,  0.05496398,  2.02023231],\n",
       "       [ 0.18634349,  0.05496398, -0.92220196],\n",
       "       [ 0.22516505,  0.05496398,  0.7284319 ],\n",
       "       [-0.3183368 ,  0.05496398, -1.28103541],\n",
       "       [-0.00776431,  0.09313341,  1.94846562],\n",
       "       [-0.16305055,  0.09313341,  1.08726535],\n",
       "       [-0.27951524,  0.09313341,  2.091999  ],\n",
       "       [-0.08540743,  0.09313341,  1.94846562],\n",
       "       [ 0.06987881,  0.09313341,  1.87669894],\n",
       "       [ 0.14752193,  0.09313341, -1.42456879],\n",
       "       [-0.3183368 ,  0.13130284, -0.06100169],\n",
       "       [-0.16305055,  0.13130284, -1.42456879],\n",
       "       [-0.08540743,  0.16947227, -1.49633548],\n",
       "       [-0.00776431,  0.16947227, -1.42456879],\n",
       "       [-0.27951524,  0.16947227,  1.73316556],\n",
       "       [ 0.34162973,  0.16947227,  0.7284319 ],\n",
       "       [-0.27951524,  0.24581112,  0.87196528],\n",
       "       [ 0.26398661,  0.24581112,  0.80019859],\n",
       "       [ 0.22516505,  0.24581112, -0.85043527],\n",
       "       [-0.39597992,  0.24581112, -0.06100169],\n",
       "       [ 0.30280817,  0.32214998,  0.08253169],\n",
       "       [ 1.58391968,  0.32214998,  0.010765  ],\n",
       "       [-0.82301709,  0.36031941, -1.13750203],\n",
       "       [ 1.04041783,  0.36031941, -0.56336851],\n",
       "       [-0.59008772,  0.39848884,  0.29783176],\n",
       "       [ 1.73920592,  0.39848884,  0.08253169],\n",
       "       [-1.52180518,  0.39848884,  1.4460988 ],\n",
       "       [ 0.96277471,  0.39848884, -0.06100169],\n",
       "       [-1.5994483 ,  0.39848884,  0.58489852],\n",
       "       [ 0.96277471,  0.39848884,  0.010765  ],\n",
       "       [-0.62890928,  0.43665827, -0.99396865],\n",
       "       [ 0.80748846,  0.43665827, -0.56336851],\n",
       "       [-1.75473454,  0.4748277 , -1.3528021 ],\n",
       "       [ 1.46745499,  0.4748277 , -0.70690189],\n",
       "       [-1.67709142,  0.4748277 ,  0.36959845],\n",
       "       [ 0.88513158,  0.4748277 , -0.49160182],\n",
       "       [-1.56062674,  0.51299713, -1.42456879],\n",
       "       [ 0.84631002,  0.51299713, -0.27630176],\n",
       "       [-1.75473454,  0.55116656,  1.30256542],\n",
       "       [ 1.6615628 ,  0.55116656, -0.49160182],\n",
       "       [-0.39597992,  0.58933599, -0.77866858],\n",
       "       [ 1.42863343,  0.58933599, -0.49160182],\n",
       "       [-1.48298362,  0.62750542, -0.99396865],\n",
       "       [ 1.81684904,  0.62750542, -0.77866858],\n",
       "       [-0.55126616,  0.62750542,  0.65666521],\n",
       "       [ 0.92395314,  0.62750542, -0.49160182],\n",
       "       [-1.09476801,  0.66567484, -0.34806844],\n",
       "       [ 1.54509812,  0.66567484, -0.34806844],\n",
       "       [-1.28887582,  0.66567484,  0.29783176],\n",
       "       [ 1.46745499,  0.66567484,  0.010765  ],\n",
       "       [-1.17241113,  0.66567484,  0.36959845],\n",
       "       [ 1.00159627,  0.66567484, -0.06100169],\n",
       "       [-1.32769738,  0.66567484,  0.58489852],\n",
       "       [ 1.50627656,  0.66567484, -0.85043527],\n",
       "       [-1.91002079,  0.66567484, -0.13276838],\n",
       "       [ 1.07923939,  0.66567484, -0.6351352 ],\n",
       "       [-1.91002079,  0.66567484, -0.34806844],\n",
       "       [ 0.88513158,  0.66567484, -0.6351352 ],\n",
       "       [-0.59008772,  0.70384427,  1.23079873],\n",
       "       [ 1.27334719,  0.70384427, -0.70690189],\n",
       "       [-1.75473454,  0.78018313, -1.42456879],\n",
       "       [ 1.6615628 ,  0.78018313, -0.56336851],\n",
       "       [-0.93948177,  0.93286085,  0.80019859],\n",
       "       [ 0.96277471,  0.93286085, -0.20453507],\n",
       "       [-1.17241113,  0.97103028,  0.22606507],\n",
       "       [ 1.73920592,  0.97103028, -0.41983513],\n",
       "       [-0.90066021,  1.00919971, -0.20453507],\n",
       "       [ 0.49691598,  1.00919971, -0.49160182],\n",
       "       [-1.44416206,  1.00919971,  0.08253169],\n",
       "       [ 0.96277471,  1.00919971, -0.77866858],\n",
       "       [-1.56062674,  1.00919971, -0.20453507],\n",
       "       [ 1.62274124,  1.00919971, -0.20453507],\n",
       "       [-1.44416206,  1.04736914,  0.94373197],\n",
       "       [ 1.38981187,  1.04736914, -0.6351352 ],\n",
       "       [-1.36651894,  1.04736914,  1.37433211],\n",
       "       [ 0.72984534,  1.04736914, -0.85043527],\n",
       "       [-1.4053405 ,  1.23821628,  1.4460988 ],\n",
       "       [ 1.54509812,  1.23821628, -0.27630176],\n",
       "       [-0.7065524 ,  1.390894  , -0.13276838],\n",
       "       [ 1.38981187,  1.390894  , -0.49160182],\n",
       "       [-1.36651894,  1.42906343,  0.51313183],\n",
       "       [ 1.46745499,  1.42906343, -0.70690189],\n",
       "       [-0.43480148,  1.46723286,  0.15429838],\n",
       "       [ 1.81684904,  1.46723286, -0.6351352 ],\n",
       "       [-1.01712489,  1.54357172,  1.08726535],\n",
       "       [ 0.69102378,  1.54357172, -0.77866858],\n",
       "       [-1.28887582,  1.61991057,  0.15429838],\n",
       "       [ 1.35099031,  1.61991057, -0.20453507],\n",
       "       [-1.05594645,  1.61991057, -0.34806844],\n",
       "       [ 0.72984534,  1.61991057, -0.49160182],\n",
       "       [-1.63826986,  2.00160487, -0.41983513],\n",
       "       [ 1.58391968,  2.00160487, -0.06100169],\n",
       "       [-1.32769738,  2.26879087,  0.58489852],\n",
       "       [ 1.11806095,  2.26879087, -0.27630176],\n",
       "       [-0.86183865,  2.49780745,  0.44136514],\n",
       "       [ 0.92395314,  2.49780745, -0.49160182],\n",
       "       [-1.25005425,  2.91767117, -0.49160182],\n",
       "       [ 1.27334719,  2.91767117, -0.6351352 ]])"
      ]
     },
     "execution_count": 49,
     "metadata": {},
     "output_type": "execute_result"
    }
   ],
   "source": [
    "\n",
    "st_scale=scale.fit_transform(r)\n",
    "st_scale"
   ]
  },
  {
   "cell_type": "code",
   "execution_count": 51,
   "id": "6f22ed64",
   "metadata": {},
   "outputs": [
    {
     "data": {
      "text/plain": [
       "CustomerID                 200\n",
       "Gender                    Male\n",
       "Age                         70\n",
       "Annual Income (k$)         137\n",
       "Spending Score (1-100)      99\n",
       "dtype: object"
      ]
     },
     "execution_count": 51,
     "metadata": {},
     "output_type": "execute_result"
    }
   ],
   "source": [
    "#range\n",
    "dataset.max()"
   ]
  },
  {
   "cell_type": "code",
   "execution_count": 52,
   "id": "cd62b0df",
   "metadata": {},
   "outputs": [
    {
     "data": {
      "text/plain": [
       "CustomerID                     1\n",
       "Gender                    Female\n",
       "Age                           18\n",
       "Annual Income (k$)            15\n",
       "Spending Score (1-100)         1\n",
       "dtype: object"
      ]
     },
     "execution_count": 52,
     "metadata": {},
     "output_type": "execute_result"
    }
   ],
   "source": [
    "dataset.min()"
   ]
  },
  {
   "cell_type": "markdown",
   "id": "bdb1d9bb",
   "metadata": {},
   "source": [
    "# Check for Missing values and deal with them."
   ]
  },
  {
   "cell_type": "code",
   "execution_count": 53,
   "id": "20619eb3",
   "metadata": {},
   "outputs": [
    {
     "data": {
      "text/html": [
       "<div>\n",
       "<style scoped>\n",
       "    .dataframe tbody tr th:only-of-type {\n",
       "        vertical-align: middle;\n",
       "    }\n",
       "\n",
       "    .dataframe tbody tr th {\n",
       "        vertical-align: top;\n",
       "    }\n",
       "\n",
       "    .dataframe thead th {\n",
       "        text-align: right;\n",
       "    }\n",
       "</style>\n",
       "<table border=\"1\" class=\"dataframe\">\n",
       "  <thead>\n",
       "    <tr style=\"text-align: right;\">\n",
       "      <th></th>\n",
       "      <th>CustomerID</th>\n",
       "      <th>Gender</th>\n",
       "      <th>Age</th>\n",
       "      <th>Annual Income (k$)</th>\n",
       "      <th>Spending Score (1-100)</th>\n",
       "    </tr>\n",
       "  </thead>\n",
       "  <tbody>\n",
       "    <tr>\n",
       "      <th>0</th>\n",
       "      <td>False</td>\n",
       "      <td>False</td>\n",
       "      <td>False</td>\n",
       "      <td>False</td>\n",
       "      <td>False</td>\n",
       "    </tr>\n",
       "    <tr>\n",
       "      <th>1</th>\n",
       "      <td>False</td>\n",
       "      <td>False</td>\n",
       "      <td>False</td>\n",
       "      <td>False</td>\n",
       "      <td>False</td>\n",
       "    </tr>\n",
       "    <tr>\n",
       "      <th>2</th>\n",
       "      <td>False</td>\n",
       "      <td>False</td>\n",
       "      <td>False</td>\n",
       "      <td>False</td>\n",
       "      <td>False</td>\n",
       "    </tr>\n",
       "    <tr>\n",
       "      <th>3</th>\n",
       "      <td>False</td>\n",
       "      <td>False</td>\n",
       "      <td>False</td>\n",
       "      <td>False</td>\n",
       "      <td>False</td>\n",
       "    </tr>\n",
       "    <tr>\n",
       "      <th>4</th>\n",
       "      <td>False</td>\n",
       "      <td>False</td>\n",
       "      <td>False</td>\n",
       "      <td>False</td>\n",
       "      <td>False</td>\n",
       "    </tr>\n",
       "    <tr>\n",
       "      <th>...</th>\n",
       "      <td>...</td>\n",
       "      <td>...</td>\n",
       "      <td>...</td>\n",
       "      <td>...</td>\n",
       "      <td>...</td>\n",
       "    </tr>\n",
       "    <tr>\n",
       "      <th>195</th>\n",
       "      <td>False</td>\n",
       "      <td>False</td>\n",
       "      <td>False</td>\n",
       "      <td>False</td>\n",
       "      <td>False</td>\n",
       "    </tr>\n",
       "    <tr>\n",
       "      <th>196</th>\n",
       "      <td>False</td>\n",
       "      <td>False</td>\n",
       "      <td>False</td>\n",
       "      <td>False</td>\n",
       "      <td>False</td>\n",
       "    </tr>\n",
       "    <tr>\n",
       "      <th>197</th>\n",
       "      <td>False</td>\n",
       "      <td>False</td>\n",
       "      <td>False</td>\n",
       "      <td>False</td>\n",
       "      <td>False</td>\n",
       "    </tr>\n",
       "    <tr>\n",
       "      <th>198</th>\n",
       "      <td>False</td>\n",
       "      <td>False</td>\n",
       "      <td>False</td>\n",
       "      <td>False</td>\n",
       "      <td>False</td>\n",
       "    </tr>\n",
       "    <tr>\n",
       "      <th>199</th>\n",
       "      <td>False</td>\n",
       "      <td>False</td>\n",
       "      <td>False</td>\n",
       "      <td>False</td>\n",
       "      <td>False</td>\n",
       "    </tr>\n",
       "  </tbody>\n",
       "</table>\n",
       "<p>200 rows × 5 columns</p>\n",
       "</div>"
      ],
      "text/plain": [
       "     CustomerID  Gender    Age  Annual Income (k$)  Spending Score (1-100)\n",
       "0         False   False  False               False                   False\n",
       "1         False   False  False               False                   False\n",
       "2         False   False  False               False                   False\n",
       "3         False   False  False               False                   False\n",
       "4         False   False  False               False                   False\n",
       "..          ...     ...    ...                 ...                     ...\n",
       "195       False   False  False               False                   False\n",
       "196       False   False  False               False                   False\n",
       "197       False   False  False               False                   False\n",
       "198       False   False  False               False                   False\n",
       "199       False   False  False               False                   False\n",
       "\n",
       "[200 rows x 5 columns]"
      ]
     },
     "execution_count": 53,
     "metadata": {},
     "output_type": "execute_result"
    }
   ],
   "source": [
    "#checking null values/MISSING VALUE\n",
    "dataset.isna()"
   ]
  },
  {
   "cell_type": "code",
   "execution_count": 54,
   "id": "18a945b2",
   "metadata": {},
   "outputs": [
    {
     "data": {
      "text/plain": [
       "CustomerID                False\n",
       "Gender                    False\n",
       "Age                       False\n",
       "Annual Income (k$)        False\n",
       "Spending Score (1-100)    False\n",
       "dtype: bool"
      ]
     },
     "execution_count": 54,
     "metadata": {},
     "output_type": "execute_result"
    }
   ],
   "source": [
    "#CATEGORICAL FORM\n",
    "dataset.isna().any()"
   ]
  },
  {
   "cell_type": "code",
   "execution_count": 55,
   "id": "01210331",
   "metadata": {},
   "outputs": [
    {
     "data": {
      "text/plain": [
       "CustomerID                0\n",
       "Gender                    0\n",
       "Age                       0\n",
       "Annual Income (k$)        0\n",
       "Spending Score (1-100)    0\n",
       "dtype: int64"
      ]
     },
     "execution_count": 55,
     "metadata": {},
     "output_type": "execute_result"
    }
   ],
   "source": [
    "#NUMBERICAL FORM\n",
    "dataset.isna().sum()"
   ]
  },
  {
   "cell_type": "code",
   "execution_count": 56,
   "id": "be6f3d5e",
   "metadata": {},
   "outputs": [],
   "source": [
    "dataset = pd.get_dummies(dataset)\n",
    "dummy_data = dataset.copy()"
   ]
  },
  {
   "cell_type": "code",
   "execution_count": 67,
   "id": "8522b3ec",
   "metadata": {},
   "outputs": [
    {
     "data": {
      "text/html": [
       "<div>\n",
       "<style scoped>\n",
       "    .dataframe tbody tr th:only-of-type {\n",
       "        vertical-align: middle;\n",
       "    }\n",
       "\n",
       "    .dataframe tbody tr th {\n",
       "        vertical-align: top;\n",
       "    }\n",
       "\n",
       "    .dataframe thead th {\n",
       "        text-align: right;\n",
       "    }\n",
       "</style>\n",
       "<table border=\"1\" class=\"dataframe\">\n",
       "  <thead>\n",
       "    <tr style=\"text-align: right;\">\n",
       "      <th></th>\n",
       "      <th>CustomerID</th>\n",
       "      <th>Gender</th>\n",
       "      <th>Age</th>\n",
       "      <th>Annual Income (k$)</th>\n",
       "      <th>Spending Score (1-100)</th>\n",
       "    </tr>\n",
       "  </thead>\n",
       "  <tbody>\n",
       "    <tr>\n",
       "      <th>0</th>\n",
       "      <td>1</td>\n",
       "      <td>Male</td>\n",
       "      <td>19</td>\n",
       "      <td>15</td>\n",
       "      <td>39</td>\n",
       "    </tr>\n",
       "    <tr>\n",
       "      <th>1</th>\n",
       "      <td>2</td>\n",
       "      <td>Male</td>\n",
       "      <td>21</td>\n",
       "      <td>15</td>\n",
       "      <td>81</td>\n",
       "    </tr>\n",
       "    <tr>\n",
       "      <th>2</th>\n",
       "      <td>3</td>\n",
       "      <td>Female</td>\n",
       "      <td>20</td>\n",
       "      <td>16</td>\n",
       "      <td>6</td>\n",
       "    </tr>\n",
       "    <tr>\n",
       "      <th>3</th>\n",
       "      <td>4</td>\n",
       "      <td>Female</td>\n",
       "      <td>23</td>\n",
       "      <td>16</td>\n",
       "      <td>77</td>\n",
       "    </tr>\n",
       "    <tr>\n",
       "      <th>4</th>\n",
       "      <td>5</td>\n",
       "      <td>Female</td>\n",
       "      <td>31</td>\n",
       "      <td>17</td>\n",
       "      <td>40</td>\n",
       "    </tr>\n",
       "    <tr>\n",
       "      <th>...</th>\n",
       "      <td>...</td>\n",
       "      <td>...</td>\n",
       "      <td>...</td>\n",
       "      <td>...</td>\n",
       "      <td>...</td>\n",
       "    </tr>\n",
       "    <tr>\n",
       "      <th>195</th>\n",
       "      <td>196</td>\n",
       "      <td>Female</td>\n",
       "      <td>35</td>\n",
       "      <td>120</td>\n",
       "      <td>79</td>\n",
       "    </tr>\n",
       "    <tr>\n",
       "      <th>196</th>\n",
       "      <td>197</td>\n",
       "      <td>Female</td>\n",
       "      <td>45</td>\n",
       "      <td>126</td>\n",
       "      <td>28</td>\n",
       "    </tr>\n",
       "    <tr>\n",
       "      <th>197</th>\n",
       "      <td>198</td>\n",
       "      <td>Male</td>\n",
       "      <td>32</td>\n",
       "      <td>126</td>\n",
       "      <td>74</td>\n",
       "    </tr>\n",
       "    <tr>\n",
       "      <th>198</th>\n",
       "      <td>199</td>\n",
       "      <td>Male</td>\n",
       "      <td>32</td>\n",
       "      <td>137</td>\n",
       "      <td>18</td>\n",
       "    </tr>\n",
       "    <tr>\n",
       "      <th>199</th>\n",
       "      <td>200</td>\n",
       "      <td>Male</td>\n",
       "      <td>30</td>\n",
       "      <td>137</td>\n",
       "      <td>83</td>\n",
       "    </tr>\n",
       "  </tbody>\n",
       "</table>\n",
       "<p>200 rows × 5 columns</p>\n",
       "</div>"
      ],
      "text/plain": [
       "     CustomerID  Gender  Age  Annual Income (k$)  Spending Score (1-100)\n",
       "0             1    Male   19                  15                      39\n",
       "1             2    Male   21                  15                      81\n",
       "2             3  Female   20                  16                       6\n",
       "3             4  Female   23                  16                      77\n",
       "4             5  Female   31                  17                      40\n",
       "..          ...     ...  ...                 ...                     ...\n",
       "195         196  Female   35                 120                      79\n",
       "196         197  Female   45                 126                      28\n",
       "197         198    Male   32                 126                      74\n",
       "198         199    Male   32                 137                      18\n",
       "199         200    Male   30                 137                      83\n",
       "\n",
       "[200 rows x 5 columns]"
      ]
     },
     "execution_count": 67,
     "metadata": {},
     "output_type": "execute_result"
    }
   ],
   "source": [
    "dataset=pd.read_csv(r\"C:\\Users\\rnsam\\Downloads\\Mall_Customers.csv\")\n",
    "dataset"
   ]
  },
  {
   "cell_type": "code",
   "execution_count": 57,
   "id": "8b1f4ed1",
   "metadata": {},
   "outputs": [
    {
     "data": {
      "text/plain": [
       "<AxesSubplot:>"
      ]
     },
     "execution_count": 57,
     "metadata": {},
     "output_type": "execute_result"
    },
    {
     "data": {
      "image/png": "[encoded data removed]",
      "text/plain": [
       "<Figure size 1440x360 with 1 Axes>"
      ]
     },
     "metadata": {
      "needs_background": "light"
     },
     "output_type": "display_data"
    }
   ],
   "source": [
    "dataset.boxplot( rot = 90, figsize=(20,5))"
   ]
  },
  {
   "cell_type": "code",
   "execution_count": 58,
   "id": "720de6c3",
   "metadata": {},
   "outputs": [
    {
     "data": {
      "image/png": "[encoded data removed]",
      "text/plain": [
       "<Figure size 432x288 with 1 Axes>"
      ]
     },
     "metadata": {
      "needs_background": "light"
     },
     "output_type": "display_data"
    }
   ],
   "source": [
    "var = 'Annual Income (k$)'\n",
    "plt.scatter(x = dataset[var], y = dataset['Spending Score (1-100)'],)\n",
    "plt.grid(True)"
   ]
  },
  {
   "cell_type": "code",
   "execution_count": 70,
   "id": "f7798886",
   "metadata": {},
   "outputs": [
    {
     "data": {
      "text/html": [
       "<div>\n",
       "<style scoped>\n",
       "    .dataframe tbody tr th:only-of-type {\n",
       "        vertical-align: middle;\n",
       "    }\n",
       "\n",
       "    .dataframe tbody tr th {\n",
       "        vertical-align: top;\n",
       "    }\n",
       "\n",
       "    .dataframe thead th {\n",
       "        text-align: right;\n",
       "    }\n",
       "</style>\n",
       "<table border=\"1\" class=\"dataframe\">\n",
       "  <thead>\n",
       "    <tr style=\"text-align: right;\">\n",
       "      <th></th>\n",
       "      <th>CustomerID</th>\n",
       "      <th>Gender</th>\n",
       "      <th>Age</th>\n",
       "      <th>Annual Income (k$)</th>\n",
       "      <th>Spending Score (1-100)</th>\n",
       "    </tr>\n",
       "  </thead>\n",
       "  <tbody>\n",
       "    <tr>\n",
       "      <th>0</th>\n",
       "      <td>1</td>\n",
       "      <td>0</td>\n",
       "      <td>19</td>\n",
       "      <td>15</td>\n",
       "      <td>39</td>\n",
       "    </tr>\n",
       "    <tr>\n",
       "      <th>1</th>\n",
       "      <td>2</td>\n",
       "      <td>0</td>\n",
       "      <td>21</td>\n",
       "      <td>15</td>\n",
       "      <td>81</td>\n",
       "    </tr>\n",
       "    <tr>\n",
       "      <th>2</th>\n",
       "      <td>3</td>\n",
       "      <td>1</td>\n",
       "      <td>20</td>\n",
       "      <td>16</td>\n",
       "      <td>6</td>\n",
       "    </tr>\n",
       "    <tr>\n",
       "      <th>3</th>\n",
       "      <td>4</td>\n",
       "      <td>1</td>\n",
       "      <td>23</td>\n",
       "      <td>16</td>\n",
       "      <td>77</td>\n",
       "    </tr>\n",
       "    <tr>\n",
       "      <th>4</th>\n",
       "      <td>5</td>\n",
       "      <td>1</td>\n",
       "      <td>31</td>\n",
       "      <td>17</td>\n",
       "      <td>40</td>\n",
       "    </tr>\n",
       "  </tbody>\n",
       "</table>\n",
       "</div>"
      ],
      "text/plain": [
       "   CustomerID  Gender  Age  Annual Income (k$)  Spending Score (1-100)\n",
       "0           1       0   19                  15                      39\n",
       "1           2       0   21                  15                      81\n",
       "2           3       1   20                  16                       6\n",
       "3           4       1   23                  16                      77\n",
       "4           5       1   31                  17                      40"
      ]
     },
     "execution_count": 70,
     "metadata": {},
     "output_type": "execute_result"
    }
   ],
   "source": [
    "#manually handling the categorical columns\n",
    "\n",
    "dataset['Gender'].replace( {'Female':1,'Male':0},inplace=True)\n",
    "\n",
    "dataset.head()"
   ]
  },
  {
   "cell_type": "code",
   "execution_count": 75,
   "id": "cc303e83",
   "metadata": {},
   "outputs": [
    {
     "data": {
      "text/html": [
       "<div>\n",
       "<style scoped>\n",
       "    .dataframe tbody tr th:only-of-type {\n",
       "        vertical-align: middle;\n",
       "    }\n",
       "\n",
       "    .dataframe tbody tr th {\n",
       "        vertical-align: top;\n",
       "    }\n",
       "\n",
       "    .dataframe thead th {\n",
       "        text-align: right;\n",
       "    }\n",
       "</style>\n",
       "<table border=\"1\" class=\"dataframe\">\n",
       "  <thead>\n",
       "    <tr style=\"text-align: right;\">\n",
       "      <th></th>\n",
       "      <th>Gender</th>\n",
       "      <th>Age</th>\n",
       "      <th>Annual Income (k$)</th>\n",
       "      <th>Spending Score (1-100)</th>\n",
       "    </tr>\n",
       "  </thead>\n",
       "  <tbody>\n",
       "    <tr>\n",
       "      <th>0</th>\n",
       "      <td>0</td>\n",
       "      <td>19</td>\n",
       "      <td>15</td>\n",
       "      <td>39</td>\n",
       "    </tr>\n",
       "    <tr>\n",
       "      <th>1</th>\n",
       "      <td>0</td>\n",
       "      <td>21</td>\n",
       "      <td>15</td>\n",
       "      <td>81</td>\n",
       "    </tr>\n",
       "    <tr>\n",
       "      <th>2</th>\n",
       "      <td>1</td>\n",
       "      <td>20</td>\n",
       "      <td>16</td>\n",
       "      <td>6</td>\n",
       "    </tr>\n",
       "    <tr>\n",
       "      <th>3</th>\n",
       "      <td>1</td>\n",
       "      <td>23</td>\n",
       "      <td>16</td>\n",
       "      <td>77</td>\n",
       "    </tr>\n",
       "    <tr>\n",
       "      <th>4</th>\n",
       "      <td>1</td>\n",
       "      <td>31</td>\n",
       "      <td>17</td>\n",
       "      <td>40</td>\n",
       "    </tr>\n",
       "  </tbody>\n",
       "</table>\n",
       "</div>"
      ],
      "text/plain": [
       "   Gender  Age  Annual Income (k$)  Spending Score (1-100)\n",
       "0       0   19                  15                      39\n",
       "1       0   21                  15                      81\n",
       "2       1   20                  16                       6\n",
       "3       1   23                  16                      77\n",
       "4       1   31                  17                      40"
      ]
     },
     "execution_count": 75,
     "metadata": {},
     "output_type": "execute_result"
    }
   ],
   "source": [
    "#independent\n",
    "\n",
    "x=dataset.drop(columns=['CustomerID'],axis=1)\n",
    "\n",
    "x.head()"
   ]
  },
  {
   "cell_type": "code",
   "execution_count": 71,
   "id": "0e82cb71",
   "metadata": {},
   "outputs": [
    {
     "data": {
      "text/html": [
       "<div>\n",
       "<style scoped>\n",
       "    .dataframe tbody tr th:only-of-type {\n",
       "        vertical-align: middle;\n",
       "    }\n",
       "\n",
       "    .dataframe tbody tr th {\n",
       "        vertical-align: top;\n",
       "    }\n",
       "\n",
       "    .dataframe thead th {\n",
       "        text-align: right;\n",
       "    }\n",
       "</style>\n",
       "<table border=\"1\" class=\"dataframe\">\n",
       "  <thead>\n",
       "    <tr style=\"text-align: right;\">\n",
       "      <th></th>\n",
       "      <th>CustomerID</th>\n",
       "      <th>Gender</th>\n",
       "      <th>Age</th>\n",
       "      <th>Annual Income (k$)</th>\n",
       "      <th>Spending Score (1-100)</th>\n",
       "    </tr>\n",
       "  </thead>\n",
       "  <tbody>\n",
       "    <tr>\n",
       "      <th>0</th>\n",
       "      <td>1</td>\n",
       "      <td>0</td>\n",
       "      <td>19</td>\n",
       "      <td>15</td>\n",
       "      <td>39</td>\n",
       "    </tr>\n",
       "    <tr>\n",
       "      <th>1</th>\n",
       "      <td>2</td>\n",
       "      <td>0</td>\n",
       "      <td>21</td>\n",
       "      <td>15</td>\n",
       "      <td>81</td>\n",
       "    </tr>\n",
       "    <tr>\n",
       "      <th>2</th>\n",
       "      <td>3</td>\n",
       "      <td>1</td>\n",
       "      <td>20</td>\n",
       "      <td>16</td>\n",
       "      <td>6</td>\n",
       "    </tr>\n",
       "    <tr>\n",
       "      <th>3</th>\n",
       "      <td>4</td>\n",
       "      <td>1</td>\n",
       "      <td>23</td>\n",
       "      <td>16</td>\n",
       "      <td>77</td>\n",
       "    </tr>\n",
       "    <tr>\n",
       "      <th>4</th>\n",
       "      <td>5</td>\n",
       "      <td>1</td>\n",
       "      <td>31</td>\n",
       "      <td>17</td>\n",
       "      <td>40</td>\n",
       "    </tr>\n",
       "  </tbody>\n",
       "</table>\n",
       "</div>"
      ],
      "text/plain": [
       "   CustomerID  Gender  Age  Annual Income (k$)  Spending Score (1-100)\n",
       "0           1       0   19                  15                      39\n",
       "1           2       0   21                  15                      81\n",
       "2           3       1   20                  16                       6\n",
       "3           4       1   23                  16                      77\n",
       "4           5       1   31                  17                      40"
      ]
     },
     "execution_count": 71,
     "metadata": {},
     "output_type": "execute_result"
    }
   ],
   "source": [
    "#encoding \n",
    "dataset = pd.get_dummies(dataset, drop_first=True)\n",
    "dataset.head()"
   ]
  },
  {
   "cell_type": "code",
   "execution_count": 85,
   "id": "446b0a47",
   "metadata": {},
   "outputs": [
    {
     "data": {
      "text/plain": [
       "0      39\n",
       "1      81\n",
       "2       6\n",
       "3      77\n",
       "4      40\n",
       "       ..\n",
       "195    79\n",
       "196    28\n",
       "197    74\n",
       "198    18\n",
       "199    83\n",
       "Name: Spending Score (1-100), Length: 200, dtype: int64"
      ]
     },
     "execution_count": 85,
     "metadata": {},
     "output_type": "execute_result"
    }
   ],
   "source": [
    "# splitting the dependent and independent variables\n",
    "\n",
    "y = dummy_data['Spending Score (1-100)']\n",
    "y"
   ]
  },
  {
   "cell_type": "code",
   "execution_count": 86,
   "id": "6460c638",
   "metadata": {},
   "outputs": [],
   "source": [
    "from sklearn.preprocessing import scale"
   ]
  },
  {
   "cell_type": "code",
   "execution_count": 87,
   "id": "a3d8febd",
   "metadata": {},
   "outputs": [],
   "source": [
    "x=scale(x)"
   ]
  },
  {
   "cell_type": "code",
   "execution_count": 88,
   "id": "132d30c7",
   "metadata": {},
   "outputs": [
    {
     "data": {
      "text/plain": [
       "array([[-1.12815215, -1.42456879, -1.73899919, -0.43480148],\n",
       "       [-1.12815215, -1.28103541, -1.73899919,  1.19570407],\n",
       "       [ 0.88640526, -1.3528021 , -1.70082976, -1.71591298],\n",
       "       [ 0.88640526, -1.13750203, -1.70082976,  1.04041783],\n",
       "       [ 0.88640526, -0.56336851, -1.66266033, -0.39597992],\n",
       "       [ 0.88640526, -1.20926872, -1.66266033,  1.00159627],\n",
       "       [ 0.88640526, -0.27630176, -1.62449091, -1.71591298],\n",
       "       [ 0.88640526, -1.13750203, -1.62449091,  1.70038436],\n",
       "       [-1.12815215,  1.80493225, -1.58632148, -1.83237767],\n",
       "       [ 0.88640526, -0.6351352 , -1.58632148,  0.84631002],\n",
       "       [-1.12815215,  2.02023231, -1.58632148, -1.4053405 ],\n",
       "       [ 0.88640526, -0.27630176, -1.58632148,  1.89449216],\n",
       "       [ 0.88640526,  1.37433211, -1.54815205, -1.36651894],\n",
       "       [ 0.88640526, -1.06573534, -1.54815205,  1.04041783],\n",
       "       [-1.12815215, -0.13276838, -1.54815205, -1.44416206],\n",
       "       [-1.12815215, -1.20926872, -1.54815205,  1.11806095],\n",
       "       [ 0.88640526, -0.27630176, -1.50998262, -0.59008772],\n",
       "       [-1.12815215, -1.3528021 , -1.50998262,  0.61338066],\n",
       "       [-1.12815215,  0.94373197, -1.43364376, -0.82301709],\n",
       "       [ 0.88640526, -0.27630176, -1.43364376,  1.8556706 ],\n",
       "       [-1.12815215, -0.27630176, -1.39547433, -0.59008772],\n",
       "       [-1.12815215, -0.99396865, -1.39547433,  0.88513158],\n",
       "       [ 0.88640526,  0.51313183, -1.3573049 , -1.75473454],\n",
       "       [-1.12815215, -0.56336851, -1.3573049 ,  0.88513158],\n",
       "       [ 0.88640526,  1.08726535, -1.24279661, -1.4053405 ],\n",
       "       [-1.12815215, -0.70690189, -1.24279661,  1.23452563],\n",
       "       [ 0.88640526,  0.44136514, -1.24279661, -0.7065524 ],\n",
       "       [-1.12815215, -0.27630176, -1.24279661,  0.41927286],\n",
       "       [ 0.88640526,  0.08253169, -1.20462718, -0.74537397],\n",
       "       [ 0.88640526, -1.13750203, -1.20462718,  1.42863343],\n",
       "       [-1.12815215,  1.51786549, -1.16645776, -1.7935561 ],\n",
       "       [ 0.88640526, -1.28103541, -1.16645776,  0.88513158],\n",
       "       [-1.12815215,  1.01549866, -1.05194947, -1.7935561 ],\n",
       "       [-1.12815215, -1.49633548, -1.05194947,  1.62274124],\n",
       "       [ 0.88640526,  0.7284319 , -1.05194947, -1.4053405 ],\n",
       "       [ 0.88640526, -1.28103541, -1.05194947,  1.19570407],\n",
       "       [ 0.88640526,  0.22606507, -1.01378004, -1.28887582],\n",
       "       [ 0.88640526, -0.6351352 , -1.01378004,  0.88513158],\n",
       "       [ 0.88640526, -0.20453507, -0.89927175, -0.93948177],\n",
       "       [ 0.88640526, -1.3528021 , -0.89927175,  0.96277471],\n",
       "       [ 0.88640526,  1.87669894, -0.86110232, -0.59008772],\n",
       "       [-1.12815215, -1.06573534, -0.86110232,  1.62274124],\n",
       "       [-1.12815215,  0.65666521, -0.82293289, -0.55126616],\n",
       "       [ 0.88640526, -0.56336851, -0.82293289,  0.41927286],\n",
       "       [ 0.88640526,  0.7284319 , -0.82293289, -0.86183865],\n",
       "       [ 0.88640526, -1.06573534, -0.82293289,  0.5745591 ],\n",
       "       [ 0.88640526,  0.80019859, -0.78476346,  0.18634349],\n",
       "       [ 0.88640526, -0.85043527, -0.78476346, -0.12422899],\n",
       "       [ 0.88640526, -0.70690189, -0.78476346, -0.3183368 ],\n",
       "       [ 0.88640526, -0.56336851, -0.78476346, -0.3183368 ],\n",
       "       [ 0.88640526,  0.7284319 , -0.70842461,  0.06987881],\n",
       "       [-1.12815215, -0.41983513, -0.70842461,  0.38045129],\n",
       "       [ 0.88640526, -0.56336851, -0.67025518,  0.14752193],\n",
       "       [-1.12815215,  1.4460988 , -0.67025518,  0.38045129],\n",
       "       [ 0.88640526,  0.80019859, -0.67025518, -0.20187212],\n",
       "       [-1.12815215,  0.58489852, -0.67025518, -0.35715836],\n",
       "       [ 0.88640526,  0.87196528, -0.63208575, -0.00776431],\n",
       "       [-1.12815215,  2.16376569, -0.63208575, -0.16305055],\n",
       "       [ 0.88640526, -0.85043527, -0.55574689,  0.03105725],\n",
       "       [-1.12815215,  1.01549866, -0.55574689, -0.16305055],\n",
       "       [-1.12815215,  2.23553238, -0.55574689,  0.22516505],\n",
       "       [-1.12815215, -1.42456879, -0.55574689,  0.18634349],\n",
       "       [ 0.88640526,  2.02023231, -0.51757746,  0.06987881],\n",
       "       [ 0.88640526,  1.08726535, -0.51757746,  0.34162973],\n",
       "       [-1.12815215,  1.73316556, -0.47940803,  0.03105725],\n",
       "       [-1.12815215, -1.49633548, -0.47940803,  0.34162973],\n",
       "       [ 0.88640526,  0.29783176, -0.47940803, -0.00776431],\n",
       "       [ 0.88640526,  2.091999  , -0.47940803, -0.08540743],\n",
       "       [-1.12815215, -1.42456879, -0.47940803,  0.34162973],\n",
       "       [ 0.88640526, -0.49160182, -0.47940803, -0.12422899],\n",
       "       [-1.12815215,  2.23553238, -0.4412386 ,  0.18634349],\n",
       "       [ 0.88640526,  0.58489852, -0.4412386 , -0.3183368 ],\n",
       "       [ 0.88640526,  1.51786549, -0.40306917, -0.04658587],\n",
       "       [ 0.88640526,  1.51786549, -0.40306917,  0.22516505],\n",
       "       [-1.12815215,  1.4460988 , -0.25039146, -0.12422899],\n",
       "       [-1.12815215, -0.92220196, -0.25039146,  0.14752193],\n",
       "       [ 0.88640526,  0.44136514, -0.25039146,  0.10870037],\n",
       "       [-1.12815215,  0.08253169, -0.25039146, -0.08540743],\n",
       "       [ 0.88640526, -1.13750203, -0.25039146,  0.06987881],\n",
       "       [ 0.88640526,  0.7284319 , -0.25039146, -0.3183368 ],\n",
       "       [-1.12815215,  1.30256542, -0.25039146,  0.03105725],\n",
       "       [-1.12815215, -0.06100169, -0.25039146,  0.18634349],\n",
       "       [-1.12815215,  2.02023231, -0.25039146, -0.35715836],\n",
       "       [ 0.88640526,  0.51313183, -0.25039146, -0.24069368],\n",
       "       [ 0.88640526, -1.28103541, -0.25039146,  0.26398661],\n",
       "       [-1.12815215,  0.65666521, -0.25039146, -0.16305055],\n",
       "       [ 0.88640526,  1.15903204, -0.13588317,  0.30280817],\n",
       "       [ 0.88640526, -1.20926872, -0.13588317,  0.18634349],\n",
       "       [ 0.88640526, -0.34806844, -0.09771374,  0.38045129],\n",
       "       [ 0.88640526,  0.80019859, -0.09771374, -0.16305055],\n",
       "       [ 0.88640526,  2.091999  , -0.05954431,  0.18634349],\n",
       "       [-1.12815215, -1.49633548, -0.05954431, -0.35715836],\n",
       "       [-1.12815215,  0.65666521, -0.02137488, -0.04658587],\n",
       "       [ 0.88640526,  0.08253169, -0.02137488, -0.39597992],\n",
       "       [ 0.88640526, -0.49160182, -0.02137488, -0.3183368 ],\n",
       "       [-1.12815215, -1.06573534, -0.02137488,  0.06987881],\n",
       "       [ 0.88640526,  0.58489852, -0.02137488, -0.12422899],\n",
       "       [ 0.88640526, -0.85043527, -0.02137488, -0.00776431],\n",
       "       [-1.12815215,  0.65666521,  0.01679455, -0.3183368 ],\n",
       "       [-1.12815215, -1.3528021 ,  0.01679455, -0.04658587],\n",
       "       [ 0.88640526, -1.13750203,  0.05496398, -0.35715836],\n",
       "       [ 0.88640526,  0.7284319 ,  0.05496398, -0.08540743],\n",
       "       [-1.12815215,  2.02023231,  0.05496398,  0.34162973],\n",
       "       [-1.12815215, -0.92220196,  0.05496398,  0.18634349],\n",
       "       [-1.12815215,  0.7284319 ,  0.05496398,  0.22516505],\n",
       "       [ 0.88640526, -1.28103541,  0.05496398, -0.3183368 ],\n",
       "       [ 0.88640526,  1.94846562,  0.09313341, -0.00776431],\n",
       "       [-1.12815215,  1.08726535,  0.09313341, -0.16305055],\n",
       "       [-1.12815215,  2.091999  ,  0.09313341, -0.27951524],\n",
       "       [-1.12815215,  1.94846562,  0.09313341, -0.08540743],\n",
       "       [-1.12815215,  1.87669894,  0.09313341,  0.06987881],\n",
       "       [ 0.88640526, -1.42456879,  0.09313341,  0.14752193],\n",
       "       [ 0.88640526, -0.06100169,  0.13130284, -0.3183368 ],\n",
       "       [-1.12815215, -1.42456879,  0.13130284, -0.16305055],\n",
       "       [ 0.88640526, -1.49633548,  0.16947227, -0.08540743],\n",
       "       [ 0.88640526, -1.42456879,  0.16947227, -0.00776431],\n",
       "       [ 0.88640526,  1.73316556,  0.16947227, -0.27951524],\n",
       "       [ 0.88640526,  0.7284319 ,  0.16947227,  0.34162973],\n",
       "       [ 0.88640526,  0.87196528,  0.24581112, -0.27951524],\n",
       "       [ 0.88640526,  0.80019859,  0.24581112,  0.26398661],\n",
       "       [-1.12815215, -0.85043527,  0.24581112,  0.22516505],\n",
       "       [ 0.88640526, -0.06100169,  0.24581112, -0.39597992],\n",
       "       [ 0.88640526,  0.08253169,  0.32214998,  0.30280817],\n",
       "       [-1.12815215,  0.010765  ,  0.32214998,  1.58391968],\n",
       "       [ 0.88640526, -1.13750203,  0.36031941, -0.82301709],\n",
       "       [ 0.88640526, -0.56336851,  0.36031941,  1.04041783],\n",
       "       [-1.12815215,  0.29783176,  0.39848884, -0.59008772],\n",
       "       [-1.12815215,  0.08253169,  0.39848884,  1.73920592],\n",
       "       [-1.12815215,  1.4460988 ,  0.39848884, -1.52180518],\n",
       "       [-1.12815215, -0.06100169,  0.39848884,  0.96277471],\n",
       "       [-1.12815215,  0.58489852,  0.39848884, -1.5994483 ],\n",
       "       [-1.12815215,  0.010765  ,  0.39848884,  0.96277471],\n",
       "       [ 0.88640526, -0.99396865,  0.43665827, -0.62890928],\n",
       "       [ 0.88640526, -0.56336851,  0.43665827,  0.80748846],\n",
       "       [-1.12815215, -1.3528021 ,  0.4748277 , -1.75473454],\n",
       "       [ 0.88640526, -0.70690189,  0.4748277 ,  1.46745499],\n",
       "       [ 0.88640526,  0.36959845,  0.4748277 , -1.67709142],\n",
       "       [-1.12815215, -0.49160182,  0.4748277 ,  0.88513158],\n",
       "       [-1.12815215, -1.42456879,  0.51299713, -1.56062674],\n",
       "       [ 0.88640526, -0.27630176,  0.51299713,  0.84631002],\n",
       "       [ 0.88640526,  1.30256542,  0.55116656, -1.75473454],\n",
       "       [-1.12815215, -0.49160182,  0.55116656,  1.6615628 ],\n",
       "       [ 0.88640526, -0.77866858,  0.58933599, -0.39597992],\n",
       "       [ 0.88640526, -0.49160182,  0.58933599,  1.42863343],\n",
       "       [-1.12815215, -0.99396865,  0.62750542, -1.48298362],\n",
       "       [-1.12815215, -0.77866858,  0.62750542,  1.81684904],\n",
       "       [-1.12815215,  0.65666521,  0.62750542, -0.55126616],\n",
       "       [ 0.88640526, -0.49160182,  0.62750542,  0.92395314],\n",
       "       [ 0.88640526, -0.34806844,  0.66567484, -1.09476801],\n",
       "       [-1.12815215, -0.34806844,  0.66567484,  1.54509812],\n",
       "       [-1.12815215,  0.29783176,  0.66567484, -1.28887582],\n",
       "       [-1.12815215,  0.010765  ,  0.66567484,  1.46745499],\n",
       "       [ 0.88640526,  0.36959845,  0.66567484, -1.17241113],\n",
       "       [ 0.88640526, -0.06100169,  0.66567484,  1.00159627],\n",
       "       [ 0.88640526,  0.58489852,  0.66567484, -1.32769738],\n",
       "       [ 0.88640526, -0.85043527,  0.66567484,  1.50627656],\n",
       "       [-1.12815215, -0.13276838,  0.66567484, -1.91002079],\n",
       "       [ 0.88640526, -0.6351352 ,  0.66567484,  1.07923939],\n",
       "       [-1.12815215, -0.34806844,  0.66567484, -1.91002079],\n",
       "       [ 0.88640526, -0.6351352 ,  0.66567484,  0.88513158],\n",
       "       [ 0.88640526,  1.23079873,  0.70384427, -0.59008772],\n",
       "       [ 0.88640526, -0.70690189,  0.70384427,  1.27334719],\n",
       "       [-1.12815215, -1.42456879,  0.78018313, -1.75473454],\n",
       "       [ 0.88640526, -0.56336851,  0.78018313,  1.6615628 ],\n",
       "       [-1.12815215,  0.80019859,  0.93286085, -0.93948177],\n",
       "       [ 0.88640526, -0.20453507,  0.93286085,  0.96277471],\n",
       "       [-1.12815215,  0.22606507,  0.97103028, -1.17241113],\n",
       "       [ 0.88640526, -0.41983513,  0.97103028,  1.73920592],\n",
       "       [ 0.88640526, -0.20453507,  1.00919971, -0.90066021],\n",
       "       [-1.12815215, -0.49160182,  1.00919971,  0.49691598],\n",
       "       [-1.12815215,  0.08253169,  1.00919971, -1.44416206],\n",
       "       [-1.12815215, -0.77866858,  1.00919971,  0.96277471],\n",
       "       [-1.12815215, -0.20453507,  1.00919971, -1.56062674],\n",
       "       [-1.12815215, -0.20453507,  1.00919971,  1.62274124],\n",
       "       [ 0.88640526,  0.94373197,  1.04736914, -1.44416206],\n",
       "       [ 0.88640526, -0.6351352 ,  1.04736914,  1.38981187],\n",
       "       [-1.12815215,  1.37433211,  1.04736914, -1.36651894],\n",
       "       [-1.12815215, -0.85043527,  1.04736914,  0.72984534],\n",
       "       [-1.12815215,  1.4460988 ,  1.23821628, -1.4053405 ],\n",
       "       [-1.12815215, -0.27630176,  1.23821628,  1.54509812],\n",
       "       [ 0.88640526, -0.13276838,  1.390894  , -0.7065524 ],\n",
       "       [ 0.88640526, -0.49160182,  1.390894  ,  1.38981187],\n",
       "       [-1.12815215,  0.51313183,  1.42906343, -1.36651894],\n",
       "       [ 0.88640526, -0.70690189,  1.42906343,  1.46745499],\n",
       "       [ 0.88640526,  0.15429838,  1.46723286, -0.43480148],\n",
       "       [-1.12815215, -0.6351352 ,  1.46723286,  1.81684904],\n",
       "       [ 0.88640526,  1.08726535,  1.54357172, -1.01712489],\n",
       "       [-1.12815215, -0.77866858,  1.54357172,  0.69102378],\n",
       "       [ 0.88640526,  0.15429838,  1.61991057, -1.28887582],\n",
       "       [ 0.88640526, -0.20453507,  1.61991057,  1.35099031],\n",
       "       [ 0.88640526, -0.34806844,  1.61991057, -1.05594645],\n",
       "       [ 0.88640526, -0.49160182,  1.61991057,  0.72984534],\n",
       "       [-1.12815215, -0.41983513,  2.00160487, -1.63826986],\n",
       "       [ 0.88640526, -0.06100169,  2.00160487,  1.58391968],\n",
       "       [ 0.88640526,  0.58489852,  2.26879087, -1.32769738],\n",
       "       [ 0.88640526, -0.27630176,  2.26879087,  1.11806095],\n",
       "       [ 0.88640526,  0.44136514,  2.49780745, -0.86183865],\n",
       "       [-1.12815215, -0.49160182,  2.49780745,  0.92395314],\n",
       "       [-1.12815215, -0.49160182,  2.91767117, -1.25005425],\n",
       "       [-1.12815215, -0.6351352 ,  2.91767117,  1.27334719]])"
      ]
     },
     "execution_count": 88,
     "metadata": {},
     "output_type": "execute_result"
    }
   ],
   "source": [
    "x"
   ]
  },
  {
   "cell_type": "code",
   "execution_count": 89,
   "id": "6e1e9d24",
   "metadata": {},
   "outputs": [
    {
     "data": {
      "text/plain": [
       "1.0"
      ]
     },
     "execution_count": 89,
     "metadata": {},
     "output_type": "execute_result"
    }
   ],
   "source": [
    "x.std()"
   ]
  },
  {
   "cell_type": "code",
   "execution_count": 90,
   "id": "b9d9f52b",
   "metadata": {},
   "outputs": [
    {
     "data": {
      "text/plain": [
       "1.7763568394002505e-17"
      ]
     },
     "execution_count": 90,
     "metadata": {},
     "output_type": "execute_result"
    }
   ],
   "source": [
    "x.mean()"
   ]
  },
  {
   "cell_type": "code",
   "execution_count": 105,
   "id": "67e46ac2",
   "metadata": {},
   "outputs": [],
   "source": [
    "import numpy as np\n",
    "import pandas as pd\n",
    "import statsmodels.api as sm\n",
    "import matplotlib.pyplot as plt\n",
    "import seaborn as sns\n",
    "sns.set()\n",
    "from sklearn.cluster import KMeans"
   ]
  },
  {
   "cell_type": "code",
   "execution_count": 99,
   "id": "1457c82d",
   "metadata": {},
   "outputs": [],
   "source": [
    "TWSS=[]\n",
    "k=list(range(2,9))\n",
    "for i in k:\n",
    "    kmeans=KMeans(n_clusters=i,init='k-means++')\n",
    "    kmeans.fit(dataset)\n"
   ]
  },
  {
   "cell_type": "code",
   "execution_count": 109,
   "id": "66f1d613",
   "metadata": {},
   "outputs": [
    {
     "data": {
      "text/html": [
       "<div>\n",
       "<style scoped>\n",
       "    .dataframe tbody tr th:only-of-type {\n",
       "        vertical-align: middle;\n",
       "    }\n",
       "\n",
       "    .dataframe tbody tr th {\n",
       "        vertical-align: top;\n",
       "    }\n",
       "\n",
       "    .dataframe thead th {\n",
       "        text-align: right;\n",
       "    }\n",
       "</style>\n",
       "<table border=\"1\" class=\"dataframe\">\n",
       "  <thead>\n",
       "    <tr style=\"text-align: right;\">\n",
       "      <th></th>\n",
       "      <th>CustomerID</th>\n",
       "      <th>Gender</th>\n",
       "      <th>Age</th>\n",
       "      <th>Annual Income (k$)</th>\n",
       "      <th>Spending Score (1-100)</th>\n",
       "    </tr>\n",
       "  </thead>\n",
       "  <tbody>\n",
       "    <tr>\n",
       "      <th>0</th>\n",
       "      <td>1</td>\n",
       "      <td>Male</td>\n",
       "      <td>19</td>\n",
       "      <td>15</td>\n",
       "      <td>39</td>\n",
       "    </tr>\n",
       "    <tr>\n",
       "      <th>1</th>\n",
       "      <td>2</td>\n",
       "      <td>Male</td>\n",
       "      <td>21</td>\n",
       "      <td>15</td>\n",
       "      <td>81</td>\n",
       "    </tr>\n",
       "    <tr>\n",
       "      <th>2</th>\n",
       "      <td>3</td>\n",
       "      <td>Female</td>\n",
       "      <td>20</td>\n",
       "      <td>16</td>\n",
       "      <td>6</td>\n",
       "    </tr>\n",
       "    <tr>\n",
       "      <th>3</th>\n",
       "      <td>4</td>\n",
       "      <td>Female</td>\n",
       "      <td>23</td>\n",
       "      <td>16</td>\n",
       "      <td>77</td>\n",
       "    </tr>\n",
       "    <tr>\n",
       "      <th>4</th>\n",
       "      <td>5</td>\n",
       "      <td>Female</td>\n",
       "      <td>31</td>\n",
       "      <td>17</td>\n",
       "      <td>40</td>\n",
       "    </tr>\n",
       "    <tr>\n",
       "      <th>...</th>\n",
       "      <td>...</td>\n",
       "      <td>...</td>\n",
       "      <td>...</td>\n",
       "      <td>...</td>\n",
       "      <td>...</td>\n",
       "    </tr>\n",
       "    <tr>\n",
       "      <th>195</th>\n",
       "      <td>196</td>\n",
       "      <td>Female</td>\n",
       "      <td>35</td>\n",
       "      <td>120</td>\n",
       "      <td>79</td>\n",
       "    </tr>\n",
       "    <tr>\n",
       "      <th>196</th>\n",
       "      <td>197</td>\n",
       "      <td>Female</td>\n",
       "      <td>45</td>\n",
       "      <td>126</td>\n",
       "      <td>28</td>\n",
       "    </tr>\n",
       "    <tr>\n",
       "      <th>197</th>\n",
       "      <td>198</td>\n",
       "      <td>Male</td>\n",
       "      <td>32</td>\n",
       "      <td>126</td>\n",
       "      <td>74</td>\n",
       "    </tr>\n",
       "    <tr>\n",
       "      <th>198</th>\n",
       "      <td>199</td>\n",
       "      <td>Male</td>\n",
       "      <td>32</td>\n",
       "      <td>137</td>\n",
       "      <td>18</td>\n",
       "    </tr>\n",
       "    <tr>\n",
       "      <th>199</th>\n",
       "      <td>200</td>\n",
       "      <td>Male</td>\n",
       "      <td>30</td>\n",
       "      <td>137</td>\n",
       "      <td>83</td>\n",
       "    </tr>\n",
       "  </tbody>\n",
       "</table>\n",
       "<p>200 rows × 5 columns</p>\n",
       "</div>"
      ],
      "text/plain": [
       "     CustomerID  Gender  Age  Annual Income (k$)  Spending Score (1-100)\n",
       "0             1    Male   19                  15                      39\n",
       "1             2    Male   21                  15                      81\n",
       "2             3  Female   20                  16                       6\n",
       "3             4  Female   23                  16                      77\n",
       "4             5  Female   31                  17                      40\n",
       "..          ...     ...  ...                 ...                     ...\n",
       "195         196  Female   35                 120                      79\n",
       "196         197  Female   45                 126                      28\n",
       "197         198    Male   32                 126                      74\n",
       "198         199    Male   32                 137                      18\n",
       "199         200    Male   30                 137                      83\n",
       "\n",
       "[200 rows x 5 columns]"
      ]
     },
     "execution_count": 109,
     "metadata": {},
     "output_type": "execute_result"
    }
   ],
   "source": [
    "dataset=pd.read_csv(r\"C:\\Users\\rnsam\\Downloads\\Mall_Customers.csv\")\n",
    "dataset"
   ]
  },
  {
   "cell_type": "code",
   "execution_count": 111,
   "id": "c74dd8b3",
   "metadata": {},
   "outputs": [
    {
     "data": {
      "text/html": [
       "<div>\n",
       "<style scoped>\n",
       "    .dataframe tbody tr th:only-of-type {\n",
       "        vertical-align: middle;\n",
       "    }\n",
       "\n",
       "    .dataframe tbody tr th {\n",
       "        vertical-align: top;\n",
       "    }\n",
       "\n",
       "    .dataframe thead th {\n",
       "        text-align: right;\n",
       "    }\n",
       "</style>\n",
       "<table border=\"1\" class=\"dataframe\">\n",
       "  <thead>\n",
       "    <tr style=\"text-align: right;\">\n",
       "      <th></th>\n",
       "      <th>Annual Income (k$)</th>\n",
       "      <th>Spending Score (1-100)</th>\n",
       "    </tr>\n",
       "  </thead>\n",
       "  <tbody>\n",
       "    <tr>\n",
       "      <th>0</th>\n",
       "      <td>15</td>\n",
       "      <td>39</td>\n",
       "    </tr>\n",
       "    <tr>\n",
       "      <th>1</th>\n",
       "      <td>15</td>\n",
       "      <td>81</td>\n",
       "    </tr>\n",
       "    <tr>\n",
       "      <th>2</th>\n",
       "      <td>16</td>\n",
       "      <td>6</td>\n",
       "    </tr>\n",
       "    <tr>\n",
       "      <th>3</th>\n",
       "      <td>16</td>\n",
       "      <td>77</td>\n",
       "    </tr>\n",
       "    <tr>\n",
       "      <th>4</th>\n",
       "      <td>17</td>\n",
       "      <td>40</td>\n",
       "    </tr>\n",
       "    <tr>\n",
       "      <th>...</th>\n",
       "      <td>...</td>\n",
       "      <td>...</td>\n",
       "    </tr>\n",
       "    <tr>\n",
       "      <th>195</th>\n",
       "      <td>120</td>\n",
       "      <td>79</td>\n",
       "    </tr>\n",
       "    <tr>\n",
       "      <th>196</th>\n",
       "      <td>126</td>\n",
       "      <td>28</td>\n",
       "    </tr>\n",
       "    <tr>\n",
       "      <th>197</th>\n",
       "      <td>126</td>\n",
       "      <td>74</td>\n",
       "    </tr>\n",
       "    <tr>\n",
       "      <th>198</th>\n",
       "      <td>137</td>\n",
       "      <td>18</td>\n",
       "    </tr>\n",
       "    <tr>\n",
       "      <th>199</th>\n",
       "      <td>137</td>\n",
       "      <td>83</td>\n",
       "    </tr>\n",
       "  </tbody>\n",
       "</table>\n",
       "<p>200 rows × 2 columns</p>\n",
       "</div>"
      ],
      "text/plain": [
       "     Annual Income (k$)  Spending Score (1-100)\n",
       "0                    15                      39\n",
       "1                    15                      81\n",
       "2                    16                       6\n",
       "3                    16                      77\n",
       "4                    17                      40\n",
       "..                  ...                     ...\n",
       "195                 120                      79\n",
       "196                 126                      28\n",
       "197                 126                      74\n",
       "198                 137                      18\n",
       "199                 137                      83\n",
       "\n",
       "[200 rows x 2 columns]"
      ]
     },
     "execution_count": 111,
     "metadata": {},
     "output_type": "execute_result"
    }
   ],
   "source": [
    " x = data.iloc[:,3:5] # 1t for rows and second for columns\n",
    "x"
   ]
  },
  {
   "cell_type": "code",
   "execution_count": 112,
   "id": "36204021",
   "metadata": {},
   "outputs": [
    {
     "ename": "NameError",
     "evalue": "name 'means' is not defined",
     "output_type": "error",
     "traceback": [
      "\u001b[1;31m---------------------------------------------------------------------------\u001b[0m",
      "\u001b[1;31mNameError\u001b[0m                                 Traceback (most recent call last)",
      "Input \u001b[1;32mIn [112]\u001b[0m, in \u001b[0;36m<cell line: 2>\u001b[1;34m()\u001b[0m\n\u001b[0;32m      1\u001b[0m kmeans \u001b[38;5;241m=\u001b[39m KMeans(\u001b[38;5;241m3\u001b[39m)\n\u001b[1;32m----> 2\u001b[0m \u001b[43mmeans\u001b[49m\u001b[38;5;241m.\u001b[39mfit(x)\n",
      "\u001b[1;31mNameError\u001b[0m: name 'means' is not defined"
     ]
    }
   ],
   "source": [
    "kmeans = KMeans(3)\n",
    "means.fit(x)"
   ]
  },
  {
   "cell_type": "code",
   "execution_count": null,
   "id": "75eef183",
   "metadata": {},
   "outputs": [],
   "source": []
  },
  {
   "cell_type": "code",
   "execution_count": null,
   "id": "aef4024f",
   "metadata": {},
   "outputs": [],
   "source": []
  },
  {
   "cell_type": "code",
   "execution_count": null,
   "id": "f40c06fd",
   "metadata": {},
   "outputs": [],
   "source": []
  },
  {
   "cell_type": "code",
   "execution_count": null,
   "id": "5966e34d",
   "metadata": {},
   "outputs": [],
   "source": []
  }
 ],
 "metadata": {
  "kernelspec": {
   "display_name": "Python 3 (ipykernel)",
   "language": "python",
   "name": "python3"
  },
  "language_info": {
   "codemirror_mode": {
    "name": "ipython",
    "version": 3
   },
   "file_extension": ".py",
   "mimetype": "text/x-python",
   "name": "python",
   "nbconvert_exporter": "python",
   "pygments_lexer": "ipython3",
   "version": "3.9.12"
  }
 },
 "nbformat": 4,
 "nbformat_minor": 5
}
